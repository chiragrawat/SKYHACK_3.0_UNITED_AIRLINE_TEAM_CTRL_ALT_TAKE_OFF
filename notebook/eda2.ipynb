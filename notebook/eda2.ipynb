{
 "cells": [
  {
   "cell_type": "markdown",
   "id": "0af4adf9",
   "metadata": {},
   "source": [
    "# IMPORT ALL THE LIBARARY"
   ]
  },
  {
   "cell_type": "code",
   "execution_count": 1,
   "id": "e957f775",
   "metadata": {},
   "outputs": [],
   "source": [
    "import pandas as pd\n",
    "import numpy as np\n",
    "import matplotlib.pyplot as plt\n",
    "import seaborn as sns"
   ]
  },
  {
   "cell_type": "markdown",
   "id": "c17049d7",
   "metadata": {},
   "source": [
    "# LOAD DATASETS"
   ]
  },
  {
   "cell_type": "code",
   "execution_count": 2,
   "id": "12547215",
   "metadata": {},
   "outputs": [],
   "source": [
    "flight_df = pd.read_csv('../data/flight_level_data.csv')\n",
    "bags_df = pd.read_csv('../data/bag_level_data.csv')\n",
    "pnr_df = pd.read_csv('../data/pnr_flight_level_data.csv')\n",
    "pnr_remark_df = pd.read_csv('../data/pnr_remark_level_data.csv')\n",
    "airport_df = pd.read_csv('../data/airport_data.csv')"
   ]
  },
  {
   "cell_type": "code",
   "execution_count": 3,
   "id": "f414beda",
   "metadata": {},
   "outputs": [
    {
     "name": "stdout",
     "output_type": "stream",
     "text": [
      "Flight Data:\n"
     ]
    },
    {
     "data": {
      "application/vnd.microsoft.datawrangler.viewer.v0+json": {
       "columns": [
        {
         "name": "index",
         "rawType": "int64",
         "type": "integer"
        },
        {
         "name": "company_id",
         "rawType": "object",
         "type": "string"
        },
        {
         "name": "flight_number",
         "rawType": "int64",
         "type": "integer"
        },
        {
         "name": "scheduled_departure_date_local",
         "rawType": "object",
         "type": "string"
        },
        {
         "name": "scheduled_departure_station_code",
         "rawType": "object",
         "type": "string"
        },
        {
         "name": "scheduled_arrival_station_code",
         "rawType": "object",
         "type": "string"
        },
        {
         "name": "scheduled_departure_datetime_local",
         "rawType": "object",
         "type": "string"
        },
        {
         "name": "scheduled_arrival_datetime_local",
         "rawType": "object",
         "type": "string"
        },
        {
         "name": "actual_departure_datetime_local",
         "rawType": "object",
         "type": "string"
        },
        {
         "name": "actual_arrival_datetime_local",
         "rawType": "object",
         "type": "string"
        },
        {
         "name": "total_seats",
         "rawType": "int64",
         "type": "integer"
        },
        {
         "name": "fleet_type",
         "rawType": "object",
         "type": "string"
        },
        {
         "name": "carrier",
         "rawType": "object",
         "type": "string"
        },
        {
         "name": "scheduled_ground_time_minutes",
         "rawType": "int64",
         "type": "integer"
        },
        {
         "name": "actual_ground_time_minutes",
         "rawType": "int64",
         "type": "integer"
        },
        {
         "name": "minimum_turn_minutes",
         "rawType": "int64",
         "type": "integer"
        }
       ],
       "ref": "6870e159-6afc-4d4c-9f28-d329aa0bb02a",
       "rows": [
        [
         "0",
         "OO",
         "4792",
         "2025-08-04",
         "ORD",
         "ROA",
         "2025-08-04T17:57:00Z",
         "2025-08-04T21:04:00Z",
         "2025-08-04T18:04:00Z",
         "2025-08-04T20:52:00Z",
         "76",
         "ERJ-175",
         "Express",
         "42",
         "34",
         "34"
        ],
        [
         "1",
         "UA",
         "920",
         "2025-08-03",
         "ORD",
         "LHR",
         "2025-08-03T18:05:00Z",
         "2025-08-04T08:20:00Z",
         "2025-08-03T18:27:00Z",
         "2025-08-04T08:06:00Z",
         "167",
         "B767-300",
         "Mainline",
         "235",
         "229",
         "145"
        ],
        [
         "2",
         "UA",
         "1776",
         "2025-08-10",
         "ORD",
         "PHL",
         "2025-08-10T18:20:00Z",
         "2025-08-10T21:35:00Z",
         "2025-08-10T20:11:00Z",
         "2025-08-10T23:26:00Z",
         "166",
         "B737-800",
         "Mainline",
         "76",
         "69",
         "51"
        ],
        [
         "3",
         "OO",
         "5790",
         "2025-08-06",
         "ORD",
         "CRW",
         "2025-08-06T18:20:00Z",
         "2025-08-06T21:04:00Z",
         "2025-08-06T20:05:00Z",
         "2025-08-06T22:42:00Z",
         "50",
         "CRJ-200",
         "Express",
         "223",
         "38",
         "29"
        ],
        [
         "4",
         "UA",
         "1398",
         "2025-08-05",
         "ORD",
         "ATL",
         "2025-08-05T18:20:00Z",
         "2025-08-05T21:29:00Z",
         "2025-08-05T18:16:00Z",
         "2025-08-05T21:49:00Z",
         "166",
         "B737-800",
         "Mainline",
         "75",
         "72",
         "51"
        ]
       ],
       "shape": {
        "columns": 15,
        "rows": 5
       }
      },
      "text/html": [
       "<div>\n",
       "<style scoped>\n",
       "    .dataframe tbody tr th:only-of-type {\n",
       "        vertical-align: middle;\n",
       "    }\n",
       "\n",
       "    .dataframe tbody tr th {\n",
       "        vertical-align: top;\n",
       "    }\n",
       "\n",
       "    .dataframe thead th {\n",
       "        text-align: right;\n",
       "    }\n",
       "</style>\n",
       "<table border=\"1\" class=\"dataframe\">\n",
       "  <thead>\n",
       "    <tr style=\"text-align: right;\">\n",
       "      <th></th>\n",
       "      <th>company_id</th>\n",
       "      <th>flight_number</th>\n",
       "      <th>scheduled_departure_date_local</th>\n",
       "      <th>scheduled_departure_station_code</th>\n",
       "      <th>scheduled_arrival_station_code</th>\n",
       "      <th>scheduled_departure_datetime_local</th>\n",
       "      <th>scheduled_arrival_datetime_local</th>\n",
       "      <th>actual_departure_datetime_local</th>\n",
       "      <th>actual_arrival_datetime_local</th>\n",
       "      <th>total_seats</th>\n",
       "      <th>fleet_type</th>\n",
       "      <th>carrier</th>\n",
       "      <th>scheduled_ground_time_minutes</th>\n",
       "      <th>actual_ground_time_minutes</th>\n",
       "      <th>minimum_turn_minutes</th>\n",
       "    </tr>\n",
       "  </thead>\n",
       "  <tbody>\n",
       "    <tr>\n",
       "      <th>0</th>\n",
       "      <td>OO</td>\n",
       "      <td>4792</td>\n",
       "      <td>2025-08-04</td>\n",
       "      <td>ORD</td>\n",
       "      <td>ROA</td>\n",
       "      <td>2025-08-04T17:57:00Z</td>\n",
       "      <td>2025-08-04T21:04:00Z</td>\n",
       "      <td>2025-08-04T18:04:00Z</td>\n",
       "      <td>2025-08-04T20:52:00Z</td>\n",
       "      <td>76</td>\n",
       "      <td>ERJ-175</td>\n",
       "      <td>Express</td>\n",
       "      <td>42</td>\n",
       "      <td>34</td>\n",
       "      <td>34</td>\n",
       "    </tr>\n",
       "    <tr>\n",
       "      <th>1</th>\n",
       "      <td>UA</td>\n",
       "      <td>920</td>\n",
       "      <td>2025-08-03</td>\n",
       "      <td>ORD</td>\n",
       "      <td>LHR</td>\n",
       "      <td>2025-08-03T18:05:00Z</td>\n",
       "      <td>2025-08-04T08:20:00Z</td>\n",
       "      <td>2025-08-03T18:27:00Z</td>\n",
       "      <td>2025-08-04T08:06:00Z</td>\n",
       "      <td>167</td>\n",
       "      <td>B767-300</td>\n",
       "      <td>Mainline</td>\n",
       "      <td>235</td>\n",
       "      <td>229</td>\n",
       "      <td>145</td>\n",
       "    </tr>\n",
       "    <tr>\n",
       "      <th>2</th>\n",
       "      <td>UA</td>\n",
       "      <td>1776</td>\n",
       "      <td>2025-08-10</td>\n",
       "      <td>ORD</td>\n",
       "      <td>PHL</td>\n",
       "      <td>2025-08-10T18:20:00Z</td>\n",
       "      <td>2025-08-10T21:35:00Z</td>\n",
       "      <td>2025-08-10T20:11:00Z</td>\n",
       "      <td>2025-08-10T23:26:00Z</td>\n",
       "      <td>166</td>\n",
       "      <td>B737-800</td>\n",
       "      <td>Mainline</td>\n",
       "      <td>76</td>\n",
       "      <td>69</td>\n",
       "      <td>51</td>\n",
       "    </tr>\n",
       "    <tr>\n",
       "      <th>3</th>\n",
       "      <td>OO</td>\n",
       "      <td>5790</td>\n",
       "      <td>2025-08-06</td>\n",
       "      <td>ORD</td>\n",
       "      <td>CRW</td>\n",
       "      <td>2025-08-06T18:20:00Z</td>\n",
       "      <td>2025-08-06T21:04:00Z</td>\n",
       "      <td>2025-08-06T20:05:00Z</td>\n",
       "      <td>2025-08-06T22:42:00Z</td>\n",
       "      <td>50</td>\n",
       "      <td>CRJ-200</td>\n",
       "      <td>Express</td>\n",
       "      <td>223</td>\n",
       "      <td>38</td>\n",
       "      <td>29</td>\n",
       "    </tr>\n",
       "    <tr>\n",
       "      <th>4</th>\n",
       "      <td>UA</td>\n",
       "      <td>1398</td>\n",
       "      <td>2025-08-05</td>\n",
       "      <td>ORD</td>\n",
       "      <td>ATL</td>\n",
       "      <td>2025-08-05T18:20:00Z</td>\n",
       "      <td>2025-08-05T21:29:00Z</td>\n",
       "      <td>2025-08-05T18:16:00Z</td>\n",
       "      <td>2025-08-05T21:49:00Z</td>\n",
       "      <td>166</td>\n",
       "      <td>B737-800</td>\n",
       "      <td>Mainline</td>\n",
       "      <td>75</td>\n",
       "      <td>72</td>\n",
       "      <td>51</td>\n",
       "    </tr>\n",
       "  </tbody>\n",
       "</table>\n",
       "</div>"
      ],
      "text/plain": [
       "  company_id  flight_number scheduled_departure_date_local  \\\n",
       "0         OO           4792                     2025-08-04   \n",
       "1         UA            920                     2025-08-03   \n",
       "2         UA           1776                     2025-08-10   \n",
       "3         OO           5790                     2025-08-06   \n",
       "4         UA           1398                     2025-08-05   \n",
       "\n",
       "  scheduled_departure_station_code scheduled_arrival_station_code  \\\n",
       "0                              ORD                            ROA   \n",
       "1                              ORD                            LHR   \n",
       "2                              ORD                            PHL   \n",
       "3                              ORD                            CRW   \n",
       "4                              ORD                            ATL   \n",
       "\n",
       "  scheduled_departure_datetime_local scheduled_arrival_datetime_local  \\\n",
       "0               2025-08-04T17:57:00Z             2025-08-04T21:04:00Z   \n",
       "1               2025-08-03T18:05:00Z             2025-08-04T08:20:00Z   \n",
       "2               2025-08-10T18:20:00Z             2025-08-10T21:35:00Z   \n",
       "3               2025-08-06T18:20:00Z             2025-08-06T21:04:00Z   \n",
       "4               2025-08-05T18:20:00Z             2025-08-05T21:29:00Z   \n",
       "\n",
       "  actual_departure_datetime_local actual_arrival_datetime_local  total_seats  \\\n",
       "0            2025-08-04T18:04:00Z          2025-08-04T20:52:00Z           76   \n",
       "1            2025-08-03T18:27:00Z          2025-08-04T08:06:00Z          167   \n",
       "2            2025-08-10T20:11:00Z          2025-08-10T23:26:00Z          166   \n",
       "3            2025-08-06T20:05:00Z          2025-08-06T22:42:00Z           50   \n",
       "4            2025-08-05T18:16:00Z          2025-08-05T21:49:00Z          166   \n",
       "\n",
       "  fleet_type   carrier  scheduled_ground_time_minutes  \\\n",
       "0    ERJ-175   Express                             42   \n",
       "1   B767-300  Mainline                            235   \n",
       "2   B737-800  Mainline                             76   \n",
       "3    CRJ-200   Express                            223   \n",
       "4   B737-800  Mainline                             75   \n",
       "\n",
       "   actual_ground_time_minutes  minimum_turn_minutes  \n",
       "0                          34                    34  \n",
       "1                         229                   145  \n",
       "2                          69                    51  \n",
       "3                          38                    29  \n",
       "4                          72                    51  "
      ]
     },
     "metadata": {},
     "output_type": "display_data"
    },
    {
     "name": "stdout",
     "output_type": "stream",
     "text": [
      "\n",
      "Bags Data:\n"
     ]
    },
    {
     "data": {
      "application/vnd.microsoft.datawrangler.viewer.v0+json": {
       "columns": [
        {
         "name": "index",
         "rawType": "int64",
         "type": "integer"
        },
        {
         "name": "company_id",
         "rawType": "object",
         "type": "string"
        },
        {
         "name": "flight_number",
         "rawType": "int64",
         "type": "integer"
        },
        {
         "name": "scheduled_departure_date_local",
         "rawType": "object",
         "type": "string"
        },
        {
         "name": "scheduled_departure_station_code",
         "rawType": "object",
         "type": "string"
        },
        {
         "name": "scheduled_arrival_station_code",
         "rawType": "object",
         "type": "string"
        },
        {
         "name": "bag_tag_unique_number",
         "rawType": "object",
         "type": "string"
        },
        {
         "name": "bag_tag_issue_date",
         "rawType": "object",
         "type": "string"
        },
        {
         "name": "bag_type",
         "rawType": "object",
         "type": "string"
        }
       ],
       "ref": "885d4611-699c-4982-a179-83abd25bdc16",
       "rows": [
        [
         "0",
         "UA",
         "1068",
         "2025-08-01",
         "ORD",
         "IAD",
         "BAGTAG_418666",
         "2025-07-27",
         "Transfer"
        ],
        [
         "1",
         "UA",
         "622",
         "2025-08-01",
         "ORD",
         "DEN",
         "BAGTAG_418667",
         "2025-07-28",
         "Transfer"
        ],
        [
         "2",
         "YX",
         "3718",
         "2025-08-01",
         "ORD",
         "MSN",
         "BAGTAG_84760",
         "2025-07-28",
         "Transfer"
        ],
        [
         "3",
         "BA",
         "294",
         "2025-08-01",
         "ORD",
         "LHR",
         "BAGTAG_418669",
         "2025-07-28",
         "Transfer"
        ],
        [
         "4",
         "UA",
         "2627",
         "2025-08-01",
         "ORD",
         "MSP",
         "BAGTAG_335257",
         "2025-07-28",
         "Transfer"
        ]
       ],
       "shape": {
        "columns": 8,
        "rows": 5
       }
      },
      "text/html": [
       "<div>\n",
       "<style scoped>\n",
       "    .dataframe tbody tr th:only-of-type {\n",
       "        vertical-align: middle;\n",
       "    }\n",
       "\n",
       "    .dataframe tbody tr th {\n",
       "        vertical-align: top;\n",
       "    }\n",
       "\n",
       "    .dataframe thead th {\n",
       "        text-align: right;\n",
       "    }\n",
       "</style>\n",
       "<table border=\"1\" class=\"dataframe\">\n",
       "  <thead>\n",
       "    <tr style=\"text-align: right;\">\n",
       "      <th></th>\n",
       "      <th>company_id</th>\n",
       "      <th>flight_number</th>\n",
       "      <th>scheduled_departure_date_local</th>\n",
       "      <th>scheduled_departure_station_code</th>\n",
       "      <th>scheduled_arrival_station_code</th>\n",
       "      <th>bag_tag_unique_number</th>\n",
       "      <th>bag_tag_issue_date</th>\n",
       "      <th>bag_type</th>\n",
       "    </tr>\n",
       "  </thead>\n",
       "  <tbody>\n",
       "    <tr>\n",
       "      <th>0</th>\n",
       "      <td>UA</td>\n",
       "      <td>1068</td>\n",
       "      <td>2025-08-01</td>\n",
       "      <td>ORD</td>\n",
       "      <td>IAD</td>\n",
       "      <td>BAGTAG_418666</td>\n",
       "      <td>2025-07-27</td>\n",
       "      <td>Transfer</td>\n",
       "    </tr>\n",
       "    <tr>\n",
       "      <th>1</th>\n",
       "      <td>UA</td>\n",
       "      <td>622</td>\n",
       "      <td>2025-08-01</td>\n",
       "      <td>ORD</td>\n",
       "      <td>DEN</td>\n",
       "      <td>BAGTAG_418667</td>\n",
       "      <td>2025-07-28</td>\n",
       "      <td>Transfer</td>\n",
       "    </tr>\n",
       "    <tr>\n",
       "      <th>2</th>\n",
       "      <td>YX</td>\n",
       "      <td>3718</td>\n",
       "      <td>2025-08-01</td>\n",
       "      <td>ORD</td>\n",
       "      <td>MSN</td>\n",
       "      <td>BAGTAG_84760</td>\n",
       "      <td>2025-07-28</td>\n",
       "      <td>Transfer</td>\n",
       "    </tr>\n",
       "    <tr>\n",
       "      <th>3</th>\n",
       "      <td>BA</td>\n",
       "      <td>294</td>\n",
       "      <td>2025-08-01</td>\n",
       "      <td>ORD</td>\n",
       "      <td>LHR</td>\n",
       "      <td>BAGTAG_418669</td>\n",
       "      <td>2025-07-28</td>\n",
       "      <td>Transfer</td>\n",
       "    </tr>\n",
       "    <tr>\n",
       "      <th>4</th>\n",
       "      <td>UA</td>\n",
       "      <td>2627</td>\n",
       "      <td>2025-08-01</td>\n",
       "      <td>ORD</td>\n",
       "      <td>MSP</td>\n",
       "      <td>BAGTAG_335257</td>\n",
       "      <td>2025-07-28</td>\n",
       "      <td>Transfer</td>\n",
       "    </tr>\n",
       "  </tbody>\n",
       "</table>\n",
       "</div>"
      ],
      "text/plain": [
       "  company_id  flight_number scheduled_departure_date_local  \\\n",
       "0         UA           1068                     2025-08-01   \n",
       "1         UA            622                     2025-08-01   \n",
       "2         YX           3718                     2025-08-01   \n",
       "3         BA            294                     2025-08-01   \n",
       "4         UA           2627                     2025-08-01   \n",
       "\n",
       "  scheduled_departure_station_code scheduled_arrival_station_code  \\\n",
       "0                              ORD                            IAD   \n",
       "1                              ORD                            DEN   \n",
       "2                              ORD                            MSN   \n",
       "3                              ORD                            LHR   \n",
       "4                              ORD                            MSP   \n",
       "\n",
       "  bag_tag_unique_number bag_tag_issue_date  bag_type  \n",
       "0         BAGTAG_418666         2025-07-27  Transfer  \n",
       "1         BAGTAG_418667         2025-07-28  Transfer  \n",
       "2          BAGTAG_84760         2025-07-28  Transfer  \n",
       "3         BAGTAG_418669         2025-07-28  Transfer  \n",
       "4         BAGTAG_335257         2025-07-28  Transfer  "
      ]
     },
     "metadata": {},
     "output_type": "display_data"
    },
    {
     "name": "stdout",
     "output_type": "stream",
     "text": [
      "\n",
      "PNR Data:\n"
     ]
    },
    {
     "data": {
      "application/vnd.microsoft.datawrangler.viewer.v0+json": {
       "columns": [
        {
         "name": "index",
         "rawType": "int64",
         "type": "integer"
        },
        {
         "name": "company_id",
         "rawType": "object",
         "type": "string"
        },
        {
         "name": "flight_number",
         "rawType": "int64",
         "type": "integer"
        },
        {
         "name": "scheduled_departure_date_local",
         "rawType": "object",
         "type": "string"
        },
        {
         "name": "scheduled_departure_station_code",
         "rawType": "object",
         "type": "string"
        },
        {
         "name": "scheduled_arrival_station_code",
         "rawType": "object",
         "type": "string"
        },
        {
         "name": "record_locator",
         "rawType": "object",
         "type": "string"
        },
        {
         "name": "pnr_creation_date",
         "rawType": "object",
         "type": "string"
        },
        {
         "name": "total_pax",
         "rawType": "int64",
         "type": "integer"
        },
        {
         "name": "is_child",
         "rawType": "object",
         "type": "string"
        },
        {
         "name": "basic_economy_ind",
         "rawType": "int64",
         "type": "integer"
        },
        {
         "name": "is_stroller_user",
         "rawType": "object",
         "type": "string"
        },
        {
         "name": "lap_child_count",
         "rawType": "int64",
         "type": "integer"
        }
       ],
       "ref": "910cb9c6-e282-4e3a-8488-e3617b062634",
       "rows": [
        [
         "0",
         "UA",
         "2494",
         "2025-08-04",
         "ORD",
         "MCI",
         "PNR_520583",
         "2025-07-07",
         "1",
         "N",
         "0",
         "N",
         "0"
        ],
        [
         "1",
         "UA",
         "2483",
         "2025-08-06",
         "ORD",
         "IAH",
         "PNR_296107",
         "2025-03-28",
         "1",
         "N",
         "0",
         "N",
         "0"
        ],
        [
         "2",
         "UA",
         "1620",
         "2025-08-01",
         "ORD",
         "SEA",
         "PNR_296108",
         "2025-06-30",
         "4",
         "Y",
         "0",
         "N",
         "0"
        ],
        [
         "3",
         "UA",
         "1620",
         "2025-08-01",
         "ORD",
         "SEA",
         "PNR_296108",
         "2025-06-30",
         "4",
         "N",
         "0",
         "N",
         "1"
        ],
        [
         "4",
         "UA",
         "1620",
         "2025-08-01",
         "ORD",
         "SEA",
         "PNR_296108",
         "2025-06-30",
         "4",
         "Y",
         "0",
         "Y",
         "0"
        ]
       ],
       "shape": {
        "columns": 12,
        "rows": 5
       }
      },
      "text/html": [
       "<div>\n",
       "<style scoped>\n",
       "    .dataframe tbody tr th:only-of-type {\n",
       "        vertical-align: middle;\n",
       "    }\n",
       "\n",
       "    .dataframe tbody tr th {\n",
       "        vertical-align: top;\n",
       "    }\n",
       "\n",
       "    .dataframe thead th {\n",
       "        text-align: right;\n",
       "    }\n",
       "</style>\n",
       "<table border=\"1\" class=\"dataframe\">\n",
       "  <thead>\n",
       "    <tr style=\"text-align: right;\">\n",
       "      <th></th>\n",
       "      <th>company_id</th>\n",
       "      <th>flight_number</th>\n",
       "      <th>scheduled_departure_date_local</th>\n",
       "      <th>scheduled_departure_station_code</th>\n",
       "      <th>scheduled_arrival_station_code</th>\n",
       "      <th>record_locator</th>\n",
       "      <th>pnr_creation_date</th>\n",
       "      <th>total_pax</th>\n",
       "      <th>is_child</th>\n",
       "      <th>basic_economy_ind</th>\n",
       "      <th>is_stroller_user</th>\n",
       "      <th>lap_child_count</th>\n",
       "    </tr>\n",
       "  </thead>\n",
       "  <tbody>\n",
       "    <tr>\n",
       "      <th>0</th>\n",
       "      <td>UA</td>\n",
       "      <td>2494</td>\n",
       "      <td>2025-08-04</td>\n",
       "      <td>ORD</td>\n",
       "      <td>MCI</td>\n",
       "      <td>PNR_520583</td>\n",
       "      <td>2025-07-07</td>\n",
       "      <td>1</td>\n",
       "      <td>N</td>\n",
       "      <td>0</td>\n",
       "      <td>N</td>\n",
       "      <td>0</td>\n",
       "    </tr>\n",
       "    <tr>\n",
       "      <th>1</th>\n",
       "      <td>UA</td>\n",
       "      <td>2483</td>\n",
       "      <td>2025-08-06</td>\n",
       "      <td>ORD</td>\n",
       "      <td>IAH</td>\n",
       "      <td>PNR_296107</td>\n",
       "      <td>2025-03-28</td>\n",
       "      <td>1</td>\n",
       "      <td>N</td>\n",
       "      <td>0</td>\n",
       "      <td>N</td>\n",
       "      <td>0</td>\n",
       "    </tr>\n",
       "    <tr>\n",
       "      <th>2</th>\n",
       "      <td>UA</td>\n",
       "      <td>1620</td>\n",
       "      <td>2025-08-01</td>\n",
       "      <td>ORD</td>\n",
       "      <td>SEA</td>\n",
       "      <td>PNR_296108</td>\n",
       "      <td>2025-06-30</td>\n",
       "      <td>4</td>\n",
       "      <td>Y</td>\n",
       "      <td>0</td>\n",
       "      <td>N</td>\n",
       "      <td>0</td>\n",
       "    </tr>\n",
       "    <tr>\n",
       "      <th>3</th>\n",
       "      <td>UA</td>\n",
       "      <td>1620</td>\n",
       "      <td>2025-08-01</td>\n",
       "      <td>ORD</td>\n",
       "      <td>SEA</td>\n",
       "      <td>PNR_296108</td>\n",
       "      <td>2025-06-30</td>\n",
       "      <td>4</td>\n",
       "      <td>N</td>\n",
       "      <td>0</td>\n",
       "      <td>N</td>\n",
       "      <td>1</td>\n",
       "    </tr>\n",
       "    <tr>\n",
       "      <th>4</th>\n",
       "      <td>UA</td>\n",
       "      <td>1620</td>\n",
       "      <td>2025-08-01</td>\n",
       "      <td>ORD</td>\n",
       "      <td>SEA</td>\n",
       "      <td>PNR_296108</td>\n",
       "      <td>2025-06-30</td>\n",
       "      <td>4</td>\n",
       "      <td>Y</td>\n",
       "      <td>0</td>\n",
       "      <td>Y</td>\n",
       "      <td>0</td>\n",
       "    </tr>\n",
       "  </tbody>\n",
       "</table>\n",
       "</div>"
      ],
      "text/plain": [
       "  company_id  flight_number scheduled_departure_date_local  \\\n",
       "0         UA           2494                     2025-08-04   \n",
       "1         UA           2483                     2025-08-06   \n",
       "2         UA           1620                     2025-08-01   \n",
       "3         UA           1620                     2025-08-01   \n",
       "4         UA           1620                     2025-08-01   \n",
       "\n",
       "  scheduled_departure_station_code scheduled_arrival_station_code  \\\n",
       "0                              ORD                            MCI   \n",
       "1                              ORD                            IAH   \n",
       "2                              ORD                            SEA   \n",
       "3                              ORD                            SEA   \n",
       "4                              ORD                            SEA   \n",
       "\n",
       "  record_locator pnr_creation_date  total_pax is_child  basic_economy_ind  \\\n",
       "0     PNR_520583        2025-07-07          1        N                  0   \n",
       "1     PNR_296107        2025-03-28          1        N                  0   \n",
       "2     PNR_296108        2025-06-30          4        Y                  0   \n",
       "3     PNR_296108        2025-06-30          4        N                  0   \n",
       "4     PNR_296108        2025-06-30          4        Y                  0   \n",
       "\n",
       "  is_stroller_user  lap_child_count  \n",
       "0                N                0  \n",
       "1                N                0  \n",
       "2                N                0  \n",
       "3                N                1  \n",
       "4                Y                0  "
      ]
     },
     "metadata": {},
     "output_type": "display_data"
    },
    {
     "name": "stdout",
     "output_type": "stream",
     "text": [
      "\n",
      "PNR Remark Data:\n"
     ]
    },
    {
     "data": {
      "application/vnd.microsoft.datawrangler.viewer.v0+json": {
       "columns": [
        {
         "name": "index",
         "rawType": "int64",
         "type": "integer"
        },
        {
         "name": "record_locator",
         "rawType": "object",
         "type": "string"
        },
        {
         "name": "pnr_creation_date",
         "rawType": "object",
         "type": "string"
        },
        {
         "name": "flight_number",
         "rawType": "int64",
         "type": "integer"
        },
        {
         "name": "special_service_request",
         "rawType": "object",
         "type": "string"
        }
       ],
       "ref": "708cec36-1557-4eb6-89b7-dadd817bf915",
       "rows": [
        [
         "0",
         "PNR_153489",
         "2025-07-04",
         "308",
         "Airport Wheelchair"
        ],
        [
         "1",
         "PNR_153489",
         "2025-07-04",
         "2182",
         "Airport Wheelchair"
        ],
        [
         "2",
         "PNR_153508",
         "2025-07-10",
         "2649",
         "Airport Wheelchair"
        ],
        [
         "3",
         "PNR_153508",
         "2025-07-10",
         "2100",
         "Airport Wheelchair"
        ],
        [
         "4",
         "PNR_153521",
         "2025-03-01",
         "970",
         "Unaccompanied Minor"
        ]
       ],
       "shape": {
        "columns": 4,
        "rows": 5
       }
      },
      "text/html": [
       "<div>\n",
       "<style scoped>\n",
       "    .dataframe tbody tr th:only-of-type {\n",
       "        vertical-align: middle;\n",
       "    }\n",
       "\n",
       "    .dataframe tbody tr th {\n",
       "        vertical-align: top;\n",
       "    }\n",
       "\n",
       "    .dataframe thead th {\n",
       "        text-align: right;\n",
       "    }\n",
       "</style>\n",
       "<table border=\"1\" class=\"dataframe\">\n",
       "  <thead>\n",
       "    <tr style=\"text-align: right;\">\n",
       "      <th></th>\n",
       "      <th>record_locator</th>\n",
       "      <th>pnr_creation_date</th>\n",
       "      <th>flight_number</th>\n",
       "      <th>special_service_request</th>\n",
       "    </tr>\n",
       "  </thead>\n",
       "  <tbody>\n",
       "    <tr>\n",
       "      <th>0</th>\n",
       "      <td>PNR_153489</td>\n",
       "      <td>2025-07-04</td>\n",
       "      <td>308</td>\n",
       "      <td>Airport Wheelchair</td>\n",
       "    </tr>\n",
       "    <tr>\n",
       "      <th>1</th>\n",
       "      <td>PNR_153489</td>\n",
       "      <td>2025-07-04</td>\n",
       "      <td>2182</td>\n",
       "      <td>Airport Wheelchair</td>\n",
       "    </tr>\n",
       "    <tr>\n",
       "      <th>2</th>\n",
       "      <td>PNR_153508</td>\n",
       "      <td>2025-07-10</td>\n",
       "      <td>2649</td>\n",
       "      <td>Airport Wheelchair</td>\n",
       "    </tr>\n",
       "    <tr>\n",
       "      <th>3</th>\n",
       "      <td>PNR_153508</td>\n",
       "      <td>2025-07-10</td>\n",
       "      <td>2100</td>\n",
       "      <td>Airport Wheelchair</td>\n",
       "    </tr>\n",
       "    <tr>\n",
       "      <th>4</th>\n",
       "      <td>PNR_153521</td>\n",
       "      <td>2025-03-01</td>\n",
       "      <td>970</td>\n",
       "      <td>Unaccompanied Minor</td>\n",
       "    </tr>\n",
       "  </tbody>\n",
       "</table>\n",
       "</div>"
      ],
      "text/plain": [
       "  record_locator pnr_creation_date  flight_number special_service_request\n",
       "0     PNR_153489        2025-07-04            308      Airport Wheelchair\n",
       "1     PNR_153489        2025-07-04           2182      Airport Wheelchair\n",
       "2     PNR_153508        2025-07-10           2649      Airport Wheelchair\n",
       "3     PNR_153508        2025-07-10           2100      Airport Wheelchair\n",
       "4     PNR_153521        2025-03-01            970     Unaccompanied Minor"
      ]
     },
     "metadata": {},
     "output_type": "display_data"
    },
    {
     "name": "stdout",
     "output_type": "stream",
     "text": [
      "\n",
      "Airport Data:\n"
     ]
    },
    {
     "data": {
      "application/vnd.microsoft.datawrangler.viewer.v0+json": {
       "columns": [
        {
         "name": "index",
         "rawType": "int64",
         "type": "integer"
        },
        {
         "name": "airport_iata_code",
         "rawType": "object",
         "type": "string"
        },
        {
         "name": "iso_country_code",
         "rawType": "object",
         "type": "string"
        }
       ],
       "ref": "7bf144aa-9b28-4a0a-bcc6-bbf783e5309a",
       "rows": [
        [
         "0",
         "DAU",
         "PG"
        ],
        [
         "1",
         "MDU",
         "PG"
        ],
        [
         "2",
         "MXH",
         "PG"
        ],
        [
         "3",
         "MIS",
         "PG"
        ],
        [
         "4",
         "TIZ",
         "PG"
        ]
       ],
       "shape": {
        "columns": 2,
        "rows": 5
       }
      },
      "text/html": [
       "<div>\n",
       "<style scoped>\n",
       "    .dataframe tbody tr th:only-of-type {\n",
       "        vertical-align: middle;\n",
       "    }\n",
       "\n",
       "    .dataframe tbody tr th {\n",
       "        vertical-align: top;\n",
       "    }\n",
       "\n",
       "    .dataframe thead th {\n",
       "        text-align: right;\n",
       "    }\n",
       "</style>\n",
       "<table border=\"1\" class=\"dataframe\">\n",
       "  <thead>\n",
       "    <tr style=\"text-align: right;\">\n",
       "      <th></th>\n",
       "      <th>airport_iata_code</th>\n",
       "      <th>iso_country_code</th>\n",
       "    </tr>\n",
       "  </thead>\n",
       "  <tbody>\n",
       "    <tr>\n",
       "      <th>0</th>\n",
       "      <td>DAU</td>\n",
       "      <td>PG</td>\n",
       "    </tr>\n",
       "    <tr>\n",
       "      <th>1</th>\n",
       "      <td>MDU</td>\n",
       "      <td>PG</td>\n",
       "    </tr>\n",
       "    <tr>\n",
       "      <th>2</th>\n",
       "      <td>MXH</td>\n",
       "      <td>PG</td>\n",
       "    </tr>\n",
       "    <tr>\n",
       "      <th>3</th>\n",
       "      <td>MIS</td>\n",
       "      <td>PG</td>\n",
       "    </tr>\n",
       "    <tr>\n",
       "      <th>4</th>\n",
       "      <td>TIZ</td>\n",
       "      <td>PG</td>\n",
       "    </tr>\n",
       "  </tbody>\n",
       "</table>\n",
       "</div>"
      ],
      "text/plain": [
       "  airport_iata_code iso_country_code\n",
       "0               DAU               PG\n",
       "1               MDU               PG\n",
       "2               MXH               PG\n",
       "3               MIS               PG\n",
       "4               TIZ               PG"
      ]
     },
     "metadata": {},
     "output_type": "display_data"
    }
   ],
   "source": [
    "print(\"Flight Data:\")\n",
    "display(flight_df.head())\n",
    "print(\"\\nBags Data:\")\n",
    "display(bags_df.head())\n",
    "print(\"\\nPNR Data:\")\n",
    "display(pnr_df.head())\n",
    "print(\"\\nPNR Remark Data:\")\n",
    "display(pnr_remark_df.head())\n",
    "print(\"\\nAirport Data:\")\n",
    "display(airport_df.head())"
   ]
  },
  {
   "cell_type": "markdown",
   "id": "1717a9a8",
   "metadata": {},
   "source": [
    "# DATA CLEANING AND PREPROCESSING"
   ]
  },
  {
   "cell_type": "code",
   "execution_count": 4,
   "id": "a076d552",
   "metadata": {},
   "outputs": [],
   "source": [
    "# Filter out invalid rows where ground time is not positive\n",
    "flight_df = flight_df[\n",
    "    (flight_df['minimum_turn_minutes'] > 0) &\n",
    "    (flight_df['scheduled_ground_time_minutes'] > 0) &\n",
    "    (flight_df['actual_ground_time_minutes'] > 0)\n",
    "]"
   ]
  },
  {
   "cell_type": "code",
   "execution_count": 5,
   "id": "4eab95a1",
   "metadata": {},
   "outputs": [],
   "source": [
    "# Remove duplicate bag entries\n",
    "bags_df = bags_df.drop_duplicates()\n",
    "# Remove duplicate PNR entries\n",
    "pnr_df = pnr_df.drop_duplicates()\n",
    "# Remove duplicate PNR remark entries\n",
    "pnr_remark_df = pnr_remark_df.drop_duplicates()\n",
    "# Remove duplicate airport entries\n",
    "airport_df = airport_df.drop_duplicates()\n",
    "# Remove duplicate flight entries\n",
    "flight_df = flight_df.drop_duplicates()"
   ]
  },
  {
   "cell_type": "code",
   "execution_count": 6,
   "id": "20087087",
   "metadata": {},
   "outputs": [],
   "source": [
    "# Drop unnecessary columns\n",
    "bags_df = bags_df.drop(columns=['bag_tag_issue_date'])\n",
    "pnr_df = pnr_df.drop(columns=['pnr_creation_date'])\n",
    "pnr_remark_df.drop(columns=['pnr_creation_date'], inplace=True)"
   ]
  },
  {
   "cell_type": "code",
   "execution_count": 7,
   "id": "baadb155",
   "metadata": {},
   "outputs": [
    {
     "name": "stderr",
     "output_type": "stream",
     "text": [
      "C:\\Users\\Lenovo\\AppData\\Local\\Temp\\ipykernel_27716\\227612179.py:2: FutureWarning: Downcasting behavior in `replace` is deprecated and will be removed in a future version. To retain the old behavior, explicitly call `result.infer_objects(copy=False)`. To opt-in to the future behavior, set `pd.set_option('future.no_silent_downcasting', True)`\n",
      "  pnr_df['is_child'] = pnr_df['is_child'].replace({'Y': 1, 'N': 0})\n",
      "C:\\Users\\Lenovo\\AppData\\Local\\Temp\\ipykernel_27716\\227612179.py:3: FutureWarning: Downcasting behavior in `replace` is deprecated and will be removed in a future version. To retain the old behavior, explicitly call `result.infer_objects(copy=False)`. To opt-in to the future behavior, set `pd.set_option('future.no_silent_downcasting', True)`\n",
      "  pnr_df['is_stroller_user'] = pnr_df['is_stroller_user'].replace({'Y': 1, 'N': 0})\n"
     ]
    }
   ],
   "source": [
    "# Convert categorical 'Y'/'N' to binary 1/0\n",
    "pnr_df['is_child'] = pnr_df['is_child'].replace({'Y': 1, 'N': 0})\n",
    "pnr_df['is_stroller_user'] = pnr_df['is_stroller_user'].replace({'Y': 1, 'N': 0})"
   ]
  },
  {
   "cell_type": "markdown",
   "id": "cea6e6fb",
   "metadata": {},
   "source": [
    "# FEATURE ENGINEERING AND MERGING"
   ]
  },
  {
   "cell_type": "code",
   "execution_count": 8,
   "id": "3407b2ac",
   "metadata": {},
   "outputs": [],
   "source": [
    "# Aggregate bag data to get counts per flight\n",
    "bag_summary = bags_df.groupby(\n",
    "    ['flight_number', 'company_id', 'scheduled_departure_date_local', 'scheduled_arrival_station_code', 'scheduled_departure_station_code']\n",
    ").agg(\n",
    "    total_num_bags=('bag_tag_unique_number', 'count'),\n",
    "    num_checked_bag=('bag_type', lambda x: (x == 'Origin').sum()),\n",
    "    num_transfer_bag=('bag_type', lambda x: (x == 'Transfer').sum()),\n",
    "    num_hot_transfer_bags=('bag_type', lambda x: (x == 'Hot Transfer').sum())\n",
    ").reset_index()"
   ]
  },
  {
   "cell_type": "code",
   "execution_count": 9,
   "id": "455ed4df",
   "metadata": {},
   "outputs": [],
   "source": [
    "# Merge PNR and remark data to get special service request info\n",
    "pnr_merged = pd.merge(pnr_df, pnr_remark_df, on=['record_locator', 'flight_number'], how='left', suffixes=('_pnr', '_remark'))\n",
    "pnr_merged['special_service_request'] = pnr_merged['special_service_request'].apply(lambda x: 0 if pd.isna(x) else 1)"
   ]
  },
  {
   "cell_type": "code",
   "execution_count": 10,
   "id": "c08497af",
   "metadata": {},
   "outputs": [],
   "source": [
    "# Aggregate PNR data to get passenger counts per flight\n",
    "flight_summary = pnr_merged.groupby(['flight_number', 'scheduled_departure_date_local', 'company_id', 'scheduled_departure_station_code', 'scheduled_arrival_station_code']).agg({\n",
    "    'record_locator': 'count',\n",
    "    'is_child': 'sum',\n",
    "    'is_stroller_user': 'sum',\n",
    "    'basic_economy_ind': 'sum',\n",
    "    'lap_child_count': 'sum',\n",
    "    'special_service_request': 'sum'\n",
    "}).reset_index()\n",
    "\n",
    "flight_summary.rename(columns={'record_locator': 'num_passengers', 'is_child': 'num_child', 'is_stroller_user': 'num_stroller_user', 'basic_economy_ind': 'num_basic_eco_passanger', 'special_service_request': 'num_special_req'}, inplace=True)"
   ]
  },
  {
   "cell_type": "code",
   "execution_count": 11,
   "id": "5df4bf14",
   "metadata": {},
   "outputs": [],
   "source": [
    "# Merge flight, passenger, and bag summaries\n",
    "flight_summary = pd.merge(flight_summary, bag_summary, on=['flight_number', 'company_id', 'scheduled_departure_date_local', 'scheduled_departure_station_code', 'scheduled_arrival_station_code'], how='left')\n",
    "flight_summary.drop(columns=['num_basic_eco_passanger'], inplace=True)\n"
   ]
  },
  {
   "cell_type": "code",
   "execution_count": 12,
   "id": "c58ca1e9",
   "metadata": {},
   "outputs": [],
   "source": [
    "# Merge with main flight data\n",
    "final_df = pd.merge(flight_summary, flight_df, on=['flight_number', 'company_id', 'scheduled_departure_date_local', 'scheduled_departure_station_code', 'scheduled_arrival_station_code'], how='left')\n",
    "final_df = final_df.dropna()"
   ]
  },
  {
   "cell_type": "code",
   "execution_count": 13,
   "id": "2246f9dd",
   "metadata": {},
   "outputs": [],
   "source": [
    "# Add country codes and create Is_International feature\n",
    "final_df['departure_country_code'] = final_df['scheduled_departure_station_code'].map(airport_df.set_index('airport_iata_code')['iso_country_code'])\n",
    "final_df['arrival_country_code'] = final_df['scheduled_arrival_station_code'].map(airport_df.set_index('airport_iata_code')['iso_country_code'])\n",
    "final_df['Is_International'] = final_df.apply(lambda x: 1 if x['departure_country_code'] != x['arrival_country_code'] else 0, axis=1)\n"
   ]
  },
  {
   "cell_type": "code",
   "execution_count": 14,
   "id": "2eb7404b",
   "metadata": {},
   "outputs": [],
   "source": [
    "# Convert datetime columns to pandas datetime\n",
    "final_df['actual_departure_datetime_local'] = pd.to_datetime(final_df['actual_departure_datetime_local'])\n",
    "final_df['scheduled_departure_datetime_local'] = pd.to_datetime(final_df['scheduled_departure_datetime_local'])\n",
    "final_df['actual_arrival_datetime_local'] = pd.to_datetime(final_df['actual_arrival_datetime_local'])\n",
    "final_df['scheduled_arrival_datetime_local'] = pd.to_datetime(final_df['scheduled_arrival_datetime_local'])\n",
    "\n",
    "# Create target variables and other useful features\n",
    "final_df['delayed_departure_minutes'] = (final_df['actual_departure_datetime_local'] - final_df['scheduled_departure_datetime_local']).dt.total_seconds() / 60.0\n",
    "final_df['delayed_arrival_minutes'] = (final_df['actual_arrival_datetime_local'] - final_df['scheduled_arrival_datetime_local']).dt.total_seconds() / 60.0\n",
    "final_df['turnaround_buffer'] = final_df['scheduled_ground_time_minutes'] - final_df['minimum_turn_minutes']\n",
    "final_df['turnaround_overrun'] = (final_df['actual_ground_time_minutes'] - final_df['scheduled_ground_time_minutes'])\n"
   ]
  },
  {
   "cell_type": "code",
   "execution_count": 15,
   "id": "269af190",
   "metadata": {},
   "outputs": [],
   "source": [
    "# feature add on\n",
    "final_df['Transfer_Bag_Ratio'] = (\n",
    "\t(final_df['num_transfer_bag'] + final_df['num_hot_transfer_bags']) / final_df['total_num_bags']\n",
    ")"
   ]
  },
  {
   "cell_type": "code",
   "execution_count": 16,
   "id": "995f0d89",
   "metadata": {},
   "outputs": [],
   "source": [
    "# 1. Create the Child_Bags_Index (Multiplication of the three factors)\n",
    "final_df['Child_Bags_Index'] = final_df['num_child'] * final_df['num_stroller_user'] * final_df['lap_child_count']"
   ]
  },
  {
   "cell_type": "code",
   "execution_count": 17,
   "id": "1e0a6d82",
   "metadata": {},
   "outputs": [],
   "source": [
    "# 1. Create the Special_Req_Ratio\n",
    "# Calculate the ratio only when num_passengers > 0\n",
    "final_df['Special_Req_Ratio'] = np.where(\n",
    "   final_df['num_passengers'] > 0,\n",
    "    final_df['num_special_req'] / final_df['num_passengers'],\n",
    "    0  # Assign 0 for flights with no passengers\n",
    ")"
   ]
  },
  {
   "cell_type": "code",
   "execution_count": 18,
   "id": "62d69a6e",
   "metadata": {},
   "outputs": [],
   "source": [
    "final_df['scheduled_ground_time_minutes'] = final_df['scheduled_ground_time_minutes'].replace(0, np.nan)\n",
    "\n",
    "valid_time_mask = final_df['scheduled_ground_time_minutes'].notnull() & (final_df['scheduled_ground_time_minutes'] > 0)\n",
    "\n",
    "# Initialize columns to 0 for safety outside the valid mask\n",
    "final_df['Work_Per_Minute'] = 0.0\n",
    "final_df['Pax_Per_Minute'] = 0.0\n",
    "final_df['Buffer_Ratio'] = 0.0\n",
    "final_df['Workload_Index'] = 0.0\n",
    "\n",
    "# Calculate ratios only on valid rows\n",
    "final_df.loc[valid_time_mask, 'Work_Per_Minute'] = (\n",
    "    final_df['total_num_bags'] / final_df['scheduled_ground_time_minutes']\n",
    ")\n",
    "final_df.loc[valid_time_mask, 'Pax_Per_Minute'] = (\n",
    "    final_df['num_passengers'] / final_df['scheduled_ground_time_minutes']\n",
    ")\n",
    "final_df.loc[valid_time_mask, 'Buffer_Ratio'] = (\n",
    "   final_df['turnaround_buffer'] /final_df['scheduled_ground_time_minutes']\n",
    ")\n",
    "final_df.loc[valid_time_mask, 'Workload_Index'] = (\n",
    "    (final_df['total_num_bags'] +final_df['num_passengers']) /final_df['scheduled_ground_time_minutes']\n",
    ")\n"
   ]
  },
  {
   "cell_type": "code",
   "execution_count": 19,
   "id": "01e5fe23",
   "metadata": {},
   "outputs": [
    {
     "name": "stdout",
     "output_type": "stream",
     "text": [
      "Distribution of Flights by Time of Day:\n",
      "Time_of_Day\n",
      "Afternoon (11:00 - 16:59)        3154\n",
      "Night/Red-Eye (21:00 - 05:59)    2000\n",
      "Evening (17:00 - 20:59)          1373\n",
      "Morning (06:00 - 10:59)          1256\n",
      "Name: count, dtype: int64\n"
     ]
    }
   ],
   "source": [
    "def get_time_of_day(hour):\n",
    "    \"\"\"Maps the hour (0-23) to a time-of-day category.\"\"\"\n",
    "    if 6 <= hour < 11:\n",
    "        return 'Morning (06:00 - 10:59)'\n",
    "    elif 11 <= hour < 17:\n",
    "        return 'Afternoon (11:00 - 16:59)'\n",
    "    elif 17 <= hour < 21:\n",
    "        return 'Evening (17:00 - 20:59)'\n",
    "    else: # 21-05\n",
    "        return 'Night/Red-Eye (21:00 - 05:59)'\n",
    "\n",
    "# Create the new 'Time_of_Day' column\n",
    "final_df['arival_hour'] = final_df['scheduled_arrival_datetime_local'].dt.hour\n",
    "final_df['Time_of_Day'] = final_df['arival_hour'].apply(get_time_of_day)\n",
    "\n",
    "# Define the logical order for the categories\n",
    "time_order = [\n",
    "    'Night/Red-Eye (21:00 - 05:59)',\n",
    "    'Morning (06:00 - 10:59)',\n",
    "    'Afternoon (11:00 - 16:59)',\n",
    "    'Evening (17:00 - 20:59)'\n",
    "]\n",
    "\n",
    "# Check the distribution\n",
    "print(\"Distribution of Flights by Time of Day:\")\n",
    "print(final_df['Time_of_Day'].value_counts())"
   ]
  },
  {
   "cell_type": "code",
   "execution_count": 20,
   "id": "5bc461f8",
   "metadata": {},
   "outputs": [],
   "source": [
    "# Group by the Aircraft Type (assuming 'fleet_type' is the column name)\n",
    "aircraft_difficulty = final_df.groupby('fleet_type').agg({\n",
    "    'flight_number': 'count',\n",
    "    'delayed_arrival_minutes': 'mean',\n",
    "}).rename(columns={'flight_number': 'Total_Flights', 'delayed_arrival_minutes': 'Avg_Arival_Delay'})\n",
    "\n",
    "# Filter for types with enough data and sort\n",
    "aircraft_difficulty = aircraft_difficulty[aircraft_difficulty['Total_Flights'] > 0].sort_values(\n",
    "    by='Avg_Arival_Delay', \n",
    "    ascending=False\n",
    ")"
   ]
  },
  {
   "cell_type": "code",
   "execution_count": 21,
   "id": "11c3147e",
   "metadata": {},
   "outputs": [
    {
     "name": "stderr",
     "output_type": "stream",
     "text": [
      "C:\\Users\\Lenovo\\AppData\\Local\\Temp\\ipykernel_27716\\4293227716.py:4: FutureWarning: \n",
      "\n",
      "Passing `palette` without assigning `hue` is deprecated and will be removed in v0.14.0. Assign the `x` variable to `hue` and set `legend=False` for the same effect.\n",
      "\n",
      "  sns.barplot(\n"
     ]
    },
    {
     "data": {
      "image/png": "[encoded data removed]",
      "text/plain": [
       "<Figure size 1200x600 with 1 Axes>"
      ]
     },
     "metadata": {},
     "output_type": "display_data"
    }
   ],
   "source": [
    "df_plot = aircraft_difficulty.reset_index().head(10) # Plotting the top 10 most common/delayed types\n",
    "\n",
    "plt.figure(figsize=(12, 6))\n",
    "sns.barplot(\n",
    "    x='fleet_type', \n",
    "    y='Avg_Arival_Delay', \n",
    "    data=df_plot, \n",
    "    palette='Spectral'\n",
    ")\n",
    "plt.title('Average Arival Delay by Aircraft Fleet Type')\n",
    "plt.ylabel('Average Arival Delay (Minutes)')\n",
    "plt.xlabel('Aircraft Fleet Type')\n",
    "plt.xticks(rotation=45, ha='right')\n",
    "plt.axhline(0, color='grey', linestyle='--')\n",
    "plt.show()"
   ]
  },
  {
   "cell_type": "code",
   "execution_count": 22,
   "id": "f4178940",
   "metadata": {},
   "outputs": [
    {
     "name": "stdout",
     "output_type": "stream",
     "text": [
      "Final Merged and Processed DataFrame:\n"
     ]
    },
    {
     "data": {
      "application/vnd.microsoft.datawrangler.viewer.v0+json": {
       "columns": [
        {
         "name": "index",
         "rawType": "int64",
         "type": "integer"
        },
        {
         "name": "flight_number",
         "rawType": "int64",
         "type": "integer"
        },
        {
         "name": "scheduled_departure_date_local",
         "rawType": "object",
         "type": "string"
        },
        {
         "name": "company_id",
         "rawType": "object",
         "type": "string"
        },
        {
         "name": "scheduled_departure_station_code",
         "rawType": "object",
         "type": "string"
        },
        {
         "name": "scheduled_arrival_station_code",
         "rawType": "object",
         "type": "string"
        },
        {
         "name": "num_passengers",
         "rawType": "int64",
         "type": "integer"
        },
        {
         "name": "num_child",
         "rawType": "int64",
         "type": "integer"
        },
        {
         "name": "num_stroller_user",
         "rawType": "int64",
         "type": "integer"
        },
        {
         "name": "lap_child_count",
         "rawType": "int64",
         "type": "integer"
        },
        {
         "name": "num_special_req",
         "rawType": "int64",
         "type": "integer"
        },
        {
         "name": "total_num_bags",
         "rawType": "float64",
         "type": "float"
        },
        {
         "name": "num_checked_bag",
         "rawType": "float64",
         "type": "float"
        },
        {
         "name": "num_transfer_bag",
         "rawType": "float64",
         "type": "float"
        },
        {
         "name": "num_hot_transfer_bags",
         "rawType": "float64",
         "type": "float"
        },
        {
         "name": "scheduled_departure_datetime_local",
         "rawType": "datetime64[ns, UTC]",
         "type": "unknown"
        },
        {
         "name": "scheduled_arrival_datetime_local",
         "rawType": "datetime64[ns, UTC]",
         "type": "unknown"
        },
        {
         "name": "actual_departure_datetime_local",
         "rawType": "datetime64[ns, UTC]",
         "type": "unknown"
        },
        {
         "name": "actual_arrival_datetime_local",
         "rawType": "datetime64[ns, UTC]",
         "type": "unknown"
        },
        {
         "name": "total_seats",
         "rawType": "float64",
         "type": "float"
        },
        {
         "name": "fleet_type",
         "rawType": "object",
         "type": "string"
        },
        {
         "name": "carrier",
         "rawType": "object",
         "type": "string"
        },
        {
         "name": "scheduled_ground_time_minutes",
         "rawType": "float64",
         "type": "float"
        },
        {
         "name": "actual_ground_time_minutes",
         "rawType": "float64",
         "type": "float"
        },
        {
         "name": "minimum_turn_minutes",
         "rawType": "float64",
         "type": "float"
        },
        {
         "name": "departure_country_code",
         "rawType": "object",
         "type": "string"
        },
        {
         "name": "arrival_country_code",
         "rawType": "object",
         "type": "string"
        },
        {
         "name": "Is_International",
         "rawType": "int64",
         "type": "integer"
        },
        {
         "name": "delayed_departure_minutes",
         "rawType": "float64",
         "type": "float"
        },
        {
         "name": "delayed_arrival_minutes",
         "rawType": "float64",
         "type": "float"
        },
        {
         "name": "turnaround_buffer",
         "rawType": "float64",
         "type": "float"
        },
        {
         "name": "turnaround_overrun",
         "rawType": "float64",
         "type": "float"
        },
        {
         "name": "Transfer_Bag_Ratio",
         "rawType": "float64",
         "type": "float"
        },
        {
         "name": "Child_Bags_Index",
         "rawType": "int64",
         "type": "integer"
        },
        {
         "name": "Special_Req_Ratio",
         "rawType": "float64",
         "type": "float"
        },
        {
         "name": "Work_Per_Minute",
         "rawType": "float64",
         "type": "float"
        },
        {
         "name": "Pax_Per_Minute",
         "rawType": "float64",
         "type": "float"
        },
        {
         "name": "Buffer_Ratio",
         "rawType": "float64",
         "type": "float"
        },
        {
         "name": "Workload_Index",
         "rawType": "float64",
         "type": "float"
        },
        {
         "name": "arival_hour",
         "rawType": "int32",
         "type": "integer"
        },
        {
         "name": "Time_of_Day",
         "rawType": "object",
         "type": "string"
        }
       ],
       "ref": "2a3e8dab-dc82-4699-9ebc-41df881f4b7a",
       "rows": [
        [
         "0",
         "3",
         "2025-08-01",
         "UA",
         "ORD",
         "ZRH",
         "100",
         "11",
         "0",
         "0",
         "2",
         "166.0",
         "70.0",
         "90.0",
         "6.0",
         "2025-08-01 15:55:00+00:00",
         "2025-08-02 07:45:00+00:00",
         "2025-08-01 15:43:00+00:00",
         "2025-08-02 06:58:00+00:00",
         "167.0",
         "B767-300",
         "Mainline",
         "185.0",
         "184.0",
         "145.0",
         "US",
         "CH",
         "1",
         "-12.0",
         "-47.0",
         "40.0",
         "-1.0",
         "0.5783132530120482",
         "0",
         "0.02",
         "0.8972972972972973",
         "0.5405405405405406",
         "0.21621621621621623",
         "1.4378378378378378",
         "7",
         "Morning (06:00 - 10:59)"
        ],
        [
         "1",
         "3",
         "2025-08-02",
         "UA",
         "ORD",
         "ZRH",
         "97",
         "8",
         "1",
         "0",
         "2",
         "197.0",
         "80.0",
         "107.0",
         "10.0",
         "2025-08-02 15:55:00+00:00",
         "2025-08-03 07:45:00+00:00",
         "2025-08-02 15:59:00+00:00",
         "2025-08-03 07:08:00+00:00",
         "167.0",
         "B767-300",
         "Mainline",
         "185.0",
         "204.0",
         "145.0",
         "US",
         "CH",
         "1",
         "4.0",
         "-37.0",
         "40.0",
         "19.0",
         "0.5939086294416244",
         "0",
         "0.020618556701030927",
         "1.0648648648648649",
         "0.5243243243243243",
         "0.21621621621621623",
         "1.5891891891891892",
         "7",
         "Morning (06:00 - 10:59)"
        ],
        [
         "2",
         "3",
         "2025-08-03",
         "UA",
         "ORD",
         "ZRH",
         "115",
         "11",
         "3",
         "1",
         "3",
         "170.0",
         "82.0",
         "81.0",
         "7.0",
         "2025-08-03 15:55:00+00:00",
         "2025-08-04 07:45:00+00:00",
         "2025-08-03 16:01:00+00:00",
         "2025-08-04 07:26:00+00:00",
         "167.0",
         "B767-300",
         "Mainline",
         "270.0",
         "275.0",
         "145.0",
         "US",
         "CH",
         "1",
         "6.0",
         "-19.0",
         "125.0",
         "5.0",
         "0.5176470588235295",
         "33",
         "0.02608695652173913",
         "0.6296296296296297",
         "0.42592592592592593",
         "0.46296296296296297",
         "1.0555555555555556",
         "7",
         "Morning (06:00 - 10:59)"
        ],
        [
         "3",
         "3",
         "2025-08-04",
         "UA",
         "ORD",
         "ZRH",
         "101",
         "11",
         "3",
         "1",
         "3",
         "147.0",
         "58.0",
         "81.0",
         "8.0",
         "2025-08-04 15:55:00+00:00",
         "2025-08-05 07:45:00+00:00",
         "2025-08-04 16:04:00+00:00",
         "2025-08-05 07:33:00+00:00",
         "167.0",
         "B767-300",
         "Mainline",
         "270.0",
         "263.0",
         "145.0",
         "US",
         "CH",
         "1",
         "9.0",
         "-12.0",
         "125.0",
         "-7.0",
         "0.6054421768707483",
         "33",
         "0.0297029702970297",
         "0.5444444444444444",
         "0.37407407407407406",
         "0.46296296296296297",
         "0.9185185185185185",
         "7",
         "Morning (06:00 - 10:59)"
        ],
        [
         "4",
         "3",
         "2025-08-05",
         "UA",
         "ORD",
         "ZRH",
         "108",
         "10",
         "2",
         "1",
         "5",
         "175.0",
         "74.0",
         "88.0",
         "13.0",
         "2025-08-05 15:55:00+00:00",
         "2025-08-06 07:45:00+00:00",
         "2025-08-05 16:06:00+00:00",
         "2025-08-06 07:35:00+00:00",
         "167.0",
         "B767-300",
         "Mainline",
         "1545.0",
         "1506.0",
         "145.0",
         "US",
         "CH",
         "1",
         "11.0",
         "-10.0",
         "1400.0",
         "-39.0",
         "0.5771428571428572",
         "20",
         "0.046296296296296294",
         "0.11326860841423948",
         "0.06990291262135923",
         "0.9061488673139159",
         "0.1831715210355987",
         "7",
         "Morning (06:00 - 10:59)"
        ]
       ],
       "shape": {
        "columns": 40,
        "rows": 5
       }
      },
      "text/html": [
       "<div>\n",
       "<style scoped>\n",
       "    .dataframe tbody tr th:only-of-type {\n",
       "        vertical-align: middle;\n",
       "    }\n",
       "\n",
       "    .dataframe tbody tr th {\n",
       "        vertical-align: top;\n",
       "    }\n",
       "\n",
       "    .dataframe thead th {\n",
       "        text-align: right;\n",
       "    }\n",
       "</style>\n",
       "<table border=\"1\" class=\"dataframe\">\n",
       "  <thead>\n",
       "    <tr style=\"text-align: right;\">\n",
       "      <th></th>\n",
       "      <th>flight_number</th>\n",
       "      <th>scheduled_departure_date_local</th>\n",
       "      <th>company_id</th>\n",
       "      <th>scheduled_departure_station_code</th>\n",
       "      <th>scheduled_arrival_station_code</th>\n",
       "      <th>num_passengers</th>\n",
       "      <th>num_child</th>\n",
       "      <th>num_stroller_user</th>\n",
       "      <th>lap_child_count</th>\n",
       "      <th>num_special_req</th>\n",
       "      <th>...</th>\n",
       "      <th>turnaround_overrun</th>\n",
       "      <th>Transfer_Bag_Ratio</th>\n",
       "      <th>Child_Bags_Index</th>\n",
       "      <th>Special_Req_Ratio</th>\n",
       "      <th>Work_Per_Minute</th>\n",
       "      <th>Pax_Per_Minute</th>\n",
       "      <th>Buffer_Ratio</th>\n",
       "      <th>Workload_Index</th>\n",
       "      <th>arival_hour</th>\n",
       "      <th>Time_of_Day</th>\n",
       "    </tr>\n",
       "  </thead>\n",
       "  <tbody>\n",
       "    <tr>\n",
       "      <th>0</th>\n",
       "      <td>3</td>\n",
       "      <td>2025-08-01</td>\n",
       "      <td>UA</td>\n",
       "      <td>ORD</td>\n",
       "      <td>ZRH</td>\n",
       "      <td>100</td>\n",
       "      <td>11</td>\n",
       "      <td>0</td>\n",
       "      <td>0</td>\n",
       "      <td>2</td>\n",
       "      <td>...</td>\n",
       "      <td>-1.0</td>\n",
       "      <td>0.578313</td>\n",
       "      <td>0</td>\n",
       "      <td>0.020000</td>\n",
       "      <td>0.897297</td>\n",
       "      <td>0.540541</td>\n",
       "      <td>0.216216</td>\n",
       "      <td>1.437838</td>\n",
       "      <td>7</td>\n",
       "      <td>Morning (06:00 - 10:59)</td>\n",
       "    </tr>\n",
       "    <tr>\n",
       "      <th>1</th>\n",
       "      <td>3</td>\n",
       "      <td>2025-08-02</td>\n",
       "      <td>UA</td>\n",
       "      <td>ORD</td>\n",
       "      <td>ZRH</td>\n",
       "      <td>97</td>\n",
       "      <td>8</td>\n",
       "      <td>1</td>\n",
       "      <td>0</td>\n",
       "      <td>2</td>\n",
       "      <td>...</td>\n",
       "      <td>19.0</td>\n",
       "      <td>0.593909</td>\n",
       "      <td>0</td>\n",
       "      <td>0.020619</td>\n",
       "      <td>1.064865</td>\n",
       "      <td>0.524324</td>\n",
       "      <td>0.216216</td>\n",
       "      <td>1.589189</td>\n",
       "      <td>7</td>\n",
       "      <td>Morning (06:00 - 10:59)</td>\n",
       "    </tr>\n",
       "    <tr>\n",
       "      <th>2</th>\n",
       "      <td>3</td>\n",
       "      <td>2025-08-03</td>\n",
       "      <td>UA</td>\n",
       "      <td>ORD</td>\n",
       "      <td>ZRH</td>\n",
       "      <td>115</td>\n",
       "      <td>11</td>\n",
       "      <td>3</td>\n",
       "      <td>1</td>\n",
       "      <td>3</td>\n",
       "      <td>...</td>\n",
       "      <td>5.0</td>\n",
       "      <td>0.517647</td>\n",
       "      <td>33</td>\n",
       "      <td>0.026087</td>\n",
       "      <td>0.629630</td>\n",
       "      <td>0.425926</td>\n",
       "      <td>0.462963</td>\n",
       "      <td>1.055556</td>\n",
       "      <td>7</td>\n",
       "      <td>Morning (06:00 - 10:59)</td>\n",
       "    </tr>\n",
       "    <tr>\n",
       "      <th>3</th>\n",
       "      <td>3</td>\n",
       "      <td>2025-08-04</td>\n",
       "      <td>UA</td>\n",
       "      <td>ORD</td>\n",
       "      <td>ZRH</td>\n",
       "      <td>101</td>\n",
       "      <td>11</td>\n",
       "      <td>3</td>\n",
       "      <td>1</td>\n",
       "      <td>3</td>\n",
       "      <td>...</td>\n",
       "      <td>-7.0</td>\n",
       "      <td>0.605442</td>\n",
       "      <td>33</td>\n",
       "      <td>0.029703</td>\n",
       "      <td>0.544444</td>\n",
       "      <td>0.374074</td>\n",
       "      <td>0.462963</td>\n",
       "      <td>0.918519</td>\n",
       "      <td>7</td>\n",
       "      <td>Morning (06:00 - 10:59)</td>\n",
       "    </tr>\n",
       "    <tr>\n",
       "      <th>4</th>\n",
       "      <td>3</td>\n",
       "      <td>2025-08-05</td>\n",
       "      <td>UA</td>\n",
       "      <td>ORD</td>\n",
       "      <td>ZRH</td>\n",
       "      <td>108</td>\n",
       "      <td>10</td>\n",
       "      <td>2</td>\n",
       "      <td>1</td>\n",
       "      <td>5</td>\n",
       "      <td>...</td>\n",
       "      <td>-39.0</td>\n",
       "      <td>0.577143</td>\n",
       "      <td>20</td>\n",
       "      <td>0.046296</td>\n",
       "      <td>0.113269</td>\n",
       "      <td>0.069903</td>\n",
       "      <td>0.906149</td>\n",
       "      <td>0.183172</td>\n",
       "      <td>7</td>\n",
       "      <td>Morning (06:00 - 10:59)</td>\n",
       "    </tr>\n",
       "  </tbody>\n",
       "</table>\n",
       "<p>5 rows × 40 columns</p>\n",
       "</div>"
      ],
      "text/plain": [
       "   flight_number scheduled_departure_date_local company_id  \\\n",
       "0              3                     2025-08-01         UA   \n",
       "1              3                     2025-08-02         UA   \n",
       "2              3                     2025-08-03         UA   \n",
       "3              3                     2025-08-04         UA   \n",
       "4              3                     2025-08-05         UA   \n",
       "\n",
       "  scheduled_departure_station_code scheduled_arrival_station_code  \\\n",
       "0                              ORD                            ZRH   \n",
       "1                              ORD                            ZRH   \n",
       "2                              ORD                            ZRH   \n",
       "3                              ORD                            ZRH   \n",
       "4                              ORD                            ZRH   \n",
       "\n",
       "   num_passengers  num_child  num_stroller_user  lap_child_count  \\\n",
       "0             100         11                  0                0   \n",
       "1              97          8                  1                0   \n",
       "2             115         11                  3                1   \n",
       "3             101         11                  3                1   \n",
       "4             108         10                  2                1   \n",
       "\n",
       "   num_special_req  ...  turnaround_overrun  Transfer_Bag_Ratio  \\\n",
       "0                2  ...                -1.0            0.578313   \n",
       "1                2  ...                19.0            0.593909   \n",
       "2                3  ...                 5.0            0.517647   \n",
       "3                3  ...                -7.0            0.605442   \n",
       "4                5  ...               -39.0            0.577143   \n",
       "\n",
       "   Child_Bags_Index  Special_Req_Ratio Work_Per_Minute Pax_Per_Minute  \\\n",
       "0                 0           0.020000        0.897297       0.540541   \n",
       "1                 0           0.020619        1.064865       0.524324   \n",
       "2                33           0.026087        0.629630       0.425926   \n",
       "3                33           0.029703        0.544444       0.374074   \n",
       "4                20           0.046296        0.113269       0.069903   \n",
       "\n",
       "  Buffer_Ratio Workload_Index  arival_hour              Time_of_Day  \n",
       "0     0.216216       1.437838            7  Morning (06:00 - 10:59)  \n",
       "1     0.216216       1.589189            7  Morning (06:00 - 10:59)  \n",
       "2     0.462963       1.055556            7  Morning (06:00 - 10:59)  \n",
       "3     0.462963       0.918519            7  Morning (06:00 - 10:59)  \n",
       "4     0.906149       0.183172            7  Morning (06:00 - 10:59)  \n",
       "\n",
       "[5 rows x 40 columns]"
      ]
     },
     "metadata": {},
     "output_type": "display_data"
    }
   ],
   "source": [
    "print(\"Final Merged and Processed DataFrame:\")\n",
    "display(final_df.head())"
   ]
  },
  {
   "cell_type": "markdown",
   "id": "5c185bbc",
   "metadata": {},
   "source": [
    "# FEATURE CORRELATION AND OUTPUT DEPENDENCY\n"
   ]
  },
  {
   "cell_type": "code",
   "execution_count": 23,
   "id": "6a9b1335",
   "metadata": {},
   "outputs": [
    {
     "name": "stdout",
     "output_type": "stream",
     "text": [
      "--- Correlation of Features with Arrival Delay Time ---\n",
      "delayed_arrival_minutes          1.000000\n",
      "delayed_departure_minutes        0.912974\n",
      "turnaround_overrun               0.358066\n",
      "arival_hour                      0.178725\n",
      "num_transfer_bag                 0.081923\n",
      "minimum_turn_minutes             0.069148\n",
      "Transfer_Bag_Ratio               0.068490\n",
      "actual_ground_time_minutes       0.059699\n",
      "Pax_Per_Minute                   0.050861\n",
      "Workload_Index                   0.049117\n",
      "Work_Per_Minute                  0.045952\n",
      "Special_Req_Ratio                0.040616\n",
      "total_seats                      0.037673\n",
      "Is_International                 0.037373\n",
      "total_num_bags                   0.026065\n",
      "num_special_req                  0.023461\n",
      "scheduled_ground_time_minutes    0.012376\n",
      "turnaround_buffer                0.009504\n",
      "num_hot_transfer_bags           -0.006480\n",
      "num_passengers                  -0.008019\n",
      "lap_child_count                 -0.012295\n",
      "num_child                       -0.019204\n",
      "flight_number                   -0.023366\n",
      "num_stroller_user               -0.024869\n",
      "Child_Bags_Index                -0.027875\n",
      "num_checked_bag                 -0.034026\n",
      "Buffer_Ratio                    -0.061036\n",
      "Name: delayed_arrival_minutes, dtype: float64\n"
     ]
    }
   ],
   "source": [
    "# Select only numerical columns for correlation calculation\n",
    "numerical_cols = final_df.select_dtypes(include=['number'])\n",
    "\n",
    "# Calculate the correlation matrix\n",
    "correlation_matrix = numerical_cols.corr()\n",
    "\n",
    "# Get the correlation of all features with 'delayed_arrival_minutes'\n",
    "arrival_delay_corr = correlation_matrix['delayed_arrival_minutes'].sort_values(ascending=False)\n",
    "\n",
    "print(\"--- Correlation of Features with Arrival Delay Time ---\")\n",
    "print(arrival_delay_corr)"
   ]
  },
  {
   "cell_type": "code",
   "execution_count": 24,
   "id": "d19f8b8b",
   "metadata": {},
   "outputs": [
    {
     "name": "stderr",
     "output_type": "stream",
     "text": [
      "C:\\Users\\Lenovo\\AppData\\Local\\Temp\\ipykernel_27716\\3871812285.py:6: FutureWarning: \n",
      "\n",
      "Passing `palette` without assigning `hue` is deprecated and will be removed in v0.14.0. Assign the `y` variable to `hue` and set `legend=False` for the same effect.\n",
      "\n",
      "  sns.barplot(x=arrival_delay_corr.drop('delayed_arrival_minutes').values, y=arrival_delay_corr.drop('delayed_arrival_minutes').index, palette='coolwarm')\n"
     ]
    },
    {
     "data": {
      "image/png": "[encoded data removed]",
      "text/plain": [
       "<Figure size 1200x1000 with 1 Axes>"
      ]
     },
     "metadata": {},
     "output_type": "display_data"
    }
   ],
   "source": [
    "# Set the size of the plot\n",
    "plt.figure(figsize=(12, 10))\n",
    "\n",
    "# Create a bar plot of the correlations\n",
    "# We drop the 'delayed_arrival_minutes' itself as its correlation with itself is 1\n",
    "sns.barplot(x=arrival_delay_corr.drop('delayed_arrival_minutes').values, y=arrival_delay_corr.drop('delayed_arrival_minutes').index, palette='coolwarm')\n",
    "\n",
    "# Add titles and labels for clarity\n",
    "plt.title('Feature Correlation with Arrival Delay Minutes', fontsize=16)\n",
    "plt.xlabel('Correlation Coefficient', fontsize=12)\n",
    "plt.ylabel('Features', fontsize=12)\n",
    "plt.grid(axis='x', linestyle='--', alpha=0.7)\n",
    "\n",
    "# Display the plot\n",
    "plt.tight_layout()\n",
    "plt.savefig(\"arrival_delay_correlation.png\") # Saves the plot as an image\n",
    "plt.show()"
   ]
  },
  {
   "cell_type": "markdown",
   "id": "85ab36af",
   "metadata": {},
   "source": [
    "# ADVANCE FEATURE ADD ONS"
   ]
  },
  {
   "cell_type": "code",
   "execution_count": 25,
   "id": "6d5b76ca",
   "metadata": {},
   "outputs": [
    {
     "name": "stdout",
     "output_type": "stream",
     "text": [
      "Advanced features 'load_factor' and 'bags_per_passenger' have been added successfully.\n"
     ]
    }
   ],
   "source": [
    "# --- 1. Create Load Factor ---\n",
    "# This feature captures how full the flight is.\n",
    "final_df['load_factor'] = final_df['num_passengers'] / final_df['total_seats']\n",
    "\n",
    "# --- 2. Create Bags per Passenger ---\n",
    "# This feature captures the baggage complexity relative to passenger count.\n",
    "final_df['bags_per_passenger'] = final_df['total_num_bags'] / final_df['num_passengers']\n",
    "\n",
    "# --- 3. Clean up potential errors ---\n",
    "# Replace any infinite values (from dividing by zero) or missing values with 0.\n",
    "final_df.replace([np.inf, -np.inf], np.nan, inplace=True)\n",
    "final_df.fillna(0, inplace=True)\n",
    "\n",
    "print(\"Advanced features 'load_factor' and 'bags_per_passenger' have been added successfully.\")"
   ]
  },
  {
   "cell_type": "markdown",
   "id": "948f0107",
   "metadata": {},
   "source": [
    "# Deliverable 1: Exploratory Data Analysis ---"
   ]
  },
  {
   "cell_type": "code",
   "execution_count": 26,
   "id": "890a881d",
   "metadata": {},
   "outputs": [
    {
     "name": "stdout",
     "output_type": "stream",
     "text": [
      "--- Deliverable 1: Exploratory Data Analysis ---\n",
      "\n",
      "1. The average departure delay is 17.10 minutes.\n",
      "   47.64% of flights depart later than scheduled.\n",
      "\n",
      "2. 338 flights have a scheduled ground time less than or equal to the minimum required turn time.\n",
      "\n",
      "3. The average ratio of transfer bags to total bags is 0.60.\n",
      "\n",
      "4. The correlation between passenger load factor and arrival delay is -0.13.\n"
     ]
    },
    {
     "data": {
      "image/png": "[encoded data removed]",
      "text/plain": [
       "<Figure size 640x480 with 1 Axes>"
      ]
     },
     "metadata": {},
     "output_type": "display_data"
    },
    {
     "name": "stdout",
     "output_type": "stream",
     "text": [
      "\n",
      "5. The average delay for all flights is 11.94 minutes.\n",
      "   The average delay for flights in the top 25% of special service requests is 13.59 minutes.\n"
     ]
    }
   ],
   "source": [
    "print(\"--- Deliverable 1: Exploratory Data Analysis ---\")\n",
    "\n",
    "# Question 1: Average delay and percentage of late departures\n",
    "avg_departure_delay = final_df['delayed_departure_minutes'].mean()\n",
    "late_departures_pct = (final_df['delayed_departure_minutes'] > 0).mean() * 100\n",
    "print(f\"\\n1. The average departure delay is {avg_departure_delay:.2f} minutes.\")\n",
    "print(f\"   {late_departures_pct:.2f}% of flights depart later than scheduled.\")\n",
    "\n",
    "# Question 2: Flights with tight ground time\n",
    "tight_ground_time_count = (final_df['turnaround_buffer'] <= 0).sum()\n",
    "print(f\"\\n2. {tight_ground_time_count} flights have a scheduled ground time less than or equal to the minimum required turn time.\")\n",
    "\n",
    "# Question 3: Average ratio of transfer bags\n",
    "avg_transfer_ratio = final_df['Transfer_Bag_Ratio'].mean()\n",
    "print(f\"\\n3. The average ratio of transfer bags to total bags is {avg_transfer_ratio:.2f}.\")\n",
    "\n",
    "# Question 4: Passenger loads and correlation with difficulty\n",
    "pax_load_correlation = final_df[['load_factor', 'delayed_arrival_minutes']].corr().iloc[0, 1]\n",
    "print(f\"\\n4. The correlation between passenger load factor and arrival delay is {pax_load_correlation:.2f}.\")\n",
    "sns.scatterplot(data=final_df, x='load_factor', y='delayed_arrival_minutes')\n",
    "plt.title('Passenger Load Factor vs. Arrival Delay')\n",
    "plt.show()\n",
    "\n",
    "# Question 5: Special requests and delays\n",
    "high_ssr_flights = final_df[final_df['num_special_req'] > final_df['num_special_req'].quantile(0.75)]\n",
    "avg_delay_high_ssr = high_ssr_flights['delayed_arrival_minutes'].mean()\n",
    "avg_delay_all = final_df['delayed_arrival_minutes'].mean()\n",
    "print(f\"\\n5. The average delay for all flights is {avg_delay_all:.2f} minutes.\")\n",
    "print(f\"   The average delay for flights in the top 25% of special service requests is {avg_delay_high_ssr:.2f} minutes.\")"
   ]
  },
  {
   "cell_type": "markdown",
   "id": "c5e34855",
   "metadata": {},
   "source": [
    "# BINARY CLASSIFICATION TARGET"
   ]
  },
  {
   "cell_type": "code",
   "execution_count": null,
   "id": "14867334",
   "metadata": {},
   "outputs": [
    {
     "name": "stdout",
     "output_type": "stream",
     "text": [
      "is_at_risk\n",
      "0    4541\n",
      "1    3242\n",
      "Name: count, dtype: int64\n"
     ]
    },
    {
     "ename": "",
     "evalue": "",
     "output_type": "error",
     "traceback": [
      "\u001b[1;31mThe Kernel crashed while executing code in the current cell or a previous cell. \n",
      "\u001b[1;31mPlease review the code in the cell(s) to identify a possible cause of the failure. \n",
      "\u001b[1;31mClick <a href='https://aka.ms/vscodeJupyterKernelCrash'>here</a> for more info. \n",
      "\u001b[1;31mView Jupyter <a href='command:jupyter.viewOutput'>log</a> for further details."
     ]
    }
   ],
   "source": [
    "# 0 = Easy (On-Time or Early)\n",
    "# 1 = At-Risk (Any Delay)\n",
    "final_df['is_at_risk'] = final_df['delayed_arrival_minutes'].apply(lambda x: 1 if x > 0 else 0)\n",
    "\n",
    "# Check the distribution of the new target\n",
    "print(final_df['is_at_risk'].value_counts())"
   ]
  },
  {
   "cell_type": "markdown",
   "id": "b63d8004",
   "metadata": {},
   "source": [
    "# Deliverable 2: Daily Flight Difficulty Score"
   ]
  },
  {
   "cell_type": "code",
   "execution_count": null,
   "id": "d6609ae3",
   "metadata": {},
   "outputs": [
    {
     "name": "stdout",
     "output_type": "stream",
     "text": [
      "Starting hyperparameter tuning...\n",
      "Fitting 3 folds for each of 50 candidates, totalling 150 fits\n"
     ]
    }
   ],
   "source": [
    "\n",
    "import lightgbm as lgb\n",
    "from sklearn.model_selection import train_test_split, RandomizedSearchCV\n",
    "from sklearn.metrics import classification_report, accuracy_score\n",
    "\n",
    "# --- 1. Create the Binary 'is_at_risk' Target Variable ---\n",
    "final_df['is_at_risk'] = final_df['delayed_arrival_minutes'].apply(lambda x: 1 if x > 0 else 0)\n",
    "\n",
    "# --- 2. Define Target and Predictive Features ---\n",
    "target = 'is_at_risk'\n",
    "features = [\n",
    "    'Is_International', 'minimum_turn_minutes', 'scheduled_ground_time_minutes',\n",
    "    'turnaround_buffer', 'arival_hour', 'Time_of_Day', 'fleet_type', 'carrier',\n",
    "    'total_seats', 'num_passengers', 'num_child', 'num_stroller_user',\n",
    "    'lap_child_count', 'num_special_req', 'total_num_bags', 'num_checked_bag',\n",
    "    'num_transfer_bag', 'num_hot_transfer_bags', 'Transfer_Bag_Ratio',\n",
    "    'Special_Req_Ratio', 'Pax_Per_Minute', 'Workload_Index', 'load_factor',\n",
    "    'bags_per_passenger'\n",
    "]\n",
    "\n",
    "existing_features = [f for f in features if f in final_df.columns]\n",
    "X = final_df[existing_features]\n",
    "y = final_df[target]\n",
    "\n",
    "# --- 3. Handle Categorical and Clean Names ---\n",
    "categorical_features = [col for col in X.columns if X[col].dtype == 'object']\n",
    "X = pd.get_dummies(X, columns=categorical_features, drop_first=True)\n",
    "X.columns = X.columns.str.replace('[^A-Za-z0-9_]+', '_', regex=True)\n",
    "\n",
    "# --- 4. Split Data ---\n",
    "X_train, X_test, y_train, y_test = train_test_split(X, y, test_size=0.2, random_state=42, stratify=y)\n",
    "\n",
    "# --- 5. Hyperparameter Tuning with RandomizedSearchCV ---\n",
    "print(\"Starting hyperparameter tuning...\")\n",
    "\n",
    "# Define the model and parameter grid\n",
    "lgbm = lgb.LGBMClassifier(random_state=42)\n",
    "param_distributions = {\n",
    "    'n_estimators': [100, 200, 300, 500],\n",
    "    'learning_rate': [0.01, 0.05, 0.1],\n",
    "    'num_leaves': [20, 31, 40, 50],\n",
    "    'max_depth': [-1, 10, 20],\n",
    "    'reg_alpha': [0.1, 0.5], # L1 regularization\n",
    "    'reg_lambda': [0.1, 0.5] # L2 regularization\n",
    "}\n",
    "\n",
    "# Create the RandomizedSearchCV object\n",
    "random_search = RandomizedSearchCV(\n",
    "    estimator=lgbm,\n",
    "    param_distributions=param_distributions,\n",
    "    n_iter=50,  # Number of parameter settings that are sampled\n",
    "    scoring='accuracy',\n",
    "    n_jobs=-1,\n",
    "    cv=3,       # 3-fold cross-validation\n",
    "    verbose=1,\n",
    "    random_state=42\n",
    ")\n",
    "\n",
    "# Fit the random search to the data\n",
    "random_search.fit(X_train, y_train)\n",
    "\n",
    "print(f\"\\nBest parameters found: {random_search.best_params_}\")\n",
    "print(f\"Best cross-validation accuracy: {random_search.best_score_:.2%}\")\n",
    "\n",
    "# --- 6. Evaluate the Best Model Found ---\n",
    "best_model = random_search.best_estimator_\n",
    "predictions = best_model.predict(X_test)\n",
    "\n",
    "print(f\"\\n--- Tuned LightGBM Model Performance ---\")\n",
    "print(f\"Overall Model Accuracy on Test Data: {accuracy_score(y_test, predictions):.2%}\")\n",
    "print(\"\\n--- Classification Report ---\")\n",
    "target_names = ['Easy (0)', 'At-Risk (1)']\n",
    "print(classification_report(y_test, predictions, target_names=target_names))"
   ]
  },
  {
   "cell_type": "markdown",
   "id": "ed073c03",
   "metadata": {},
   "source": [
    "# Starting Daily Flight Difficulty Score Calculation"
   ]
  },
  {
   "cell_type": "code",
   "execution_count": null,
   "id": "00634699",
   "metadata": {},
   "outputs": [
    {
     "name": "stdout",
     "output_type": "stream",
     "text": [
      "--- Starting Daily Flight Difficulty Score Calculation ---\n",
      "\n",
      "--- Sample Daily Flight Difficulty Report ---\n"
     ]
    },
    {
     "name": "stderr",
     "output_type": "stream",
     "text": [
      "C:\\Users\\Lenovo\\AppData\\Local\\Temp\\ipykernel_25276\\691100067.py:55: FutureWarning: DataFrameGroupBy.apply operated on the grouping columns. This behavior is deprecated, and in a future version of pandas the grouping columns will be excluded from the operation. Either pass `include_groups=False` to exclude the groupings or explicitly select the grouping columns after groupby to silence this warning.\n",
      "  report_df = report_df.groupby('scheduled_departure_date_local', group_keys=False).apply(classify_difficulty)\n"
     ]
    },
    {
     "data": {
      "application/vnd.microsoft.datawrangler.viewer.v0+json": {
       "columns": [
        {
         "name": "index",
         "rawType": "int64",
         "type": "integer"
        },
        {
         "name": "scheduled_departure_date_local",
         "rawType": "object",
         "type": "string"
        },
        {
         "name": "flight_number",
         "rawType": "int64",
         "type": "integer"
        },
        {
         "name": "carrier",
         "rawType": "object",
         "type": "string"
        },
        {
         "name": "scheduled_departure_datetime_local",
         "rawType": "datetime64[ns, UTC]",
         "type": "unknown"
        },
        {
         "name": "difficulty_score",
         "rawType": "float64",
         "type": "float"
        },
        {
         "name": "daily_rank",
         "rawType": "float64",
         "type": "float"
        },
        {
         "name": "difficulty_classification",
         "rawType": "object",
         "type": "string"
        }
       ],
       "ref": "a4caa823-f101-4f53-bff0-25975a54465d",
       "rows": [
        [
         "3562",
         "2025-08-01",
         "2207",
         "Mainline",
         "2025-08-01 15:58:00+00:00",
         "0.8548765279679846",
         "1.0",
         "Difficult"
        ],
        [
         "1825",
         "2025-08-01",
         "1363",
         "Mainline",
         "2025-08-01 12:54:00+00:00",
         "0.8449598390449002",
         "2.0",
         "Difficult"
        ],
        [
         "4123",
         "2025-08-01",
         "2488",
         "Mainline",
         "2025-08-01 12:00:00+00:00",
         "0.8433829737794181",
         "3.0",
         "Difficult"
        ],
        [
         "3470",
         "2025-08-01",
         "2182",
         "Mainline",
         "2025-08-01 11:20:00+00:00",
         "0.8126915576381698",
         "4.0",
         "Difficult"
        ],
        [
         "6046",
         "2025-08-01",
         "4748",
         "Express",
         "2025-08-01 20:20:00+00:00",
         "0.793293589308546",
         "5.0",
         "Difficult"
        ],
        [
         "3093",
         "2025-08-01",
         "2011",
         "Mainline",
         "2025-08-01 08:48:00+00:00",
         "0.7927665162507999",
         "6.0",
         "Difficult"
        ],
        [
         "5430",
         "2025-08-01",
         "4463",
         "Express",
         "2025-08-01 18:35:00+00:00",
         "0.7914954857326403",
         "7.0",
         "Difficult"
        ],
        [
         "4255",
         "2025-08-01",
         "2635",
         "Mainline",
         "2025-08-01 14:08:00+00:00",
         "0.7837701342993316",
         "8.0",
         "Difficult"
        ],
        [
         "4253",
         "2025-08-01",
         "2635",
         "Mainline",
         "2025-08-01 19:13:00+00:00",
         "0.782982260961755",
         "9.0",
         "Difficult"
        ],
        [
         "313",
         "2025-08-01",
         "380",
         "Mainline",
         "2025-08-01 11:59:00+00:00",
         "0.7708930244075222",
         "10.0",
         "Difficult"
        ],
        [
         "2646",
         "2025-08-01",
         "1811",
         "Mainline",
         "2025-08-01 12:45:00+00:00",
         "0.7695004050351864",
         "11.0",
         "Difficult"
        ],
        [
         "785",
         "2025-08-01",
         "714",
         "Mainline",
         "2025-08-01 19:52:00+00:00",
         "0.7655672557631994",
         "12.0",
         "Difficult"
        ],
        [
         "7569",
         "2025-08-01",
         "5643",
         "Express",
         "2025-08-01 21:10:00+00:00",
         "0.7356584666857474",
         "13.0",
         "Difficult"
        ],
        [
         "1471",
         "2025-08-01",
         "1178",
         "Mainline",
         "2025-08-01 18:22:00+00:00",
         "0.7335943802308941",
         "14.0",
         "Difficult"
        ],
        [
         "1161",
         "2025-08-01",
         "972",
         "Mainline",
         "2025-08-01 17:50:00+00:00",
         "0.7306573627061902",
         "15.0",
         "Difficult"
        ],
        [
         "6411",
         "2025-08-01",
         "5131",
         "Express",
         "2025-08-01 16:15:00+00:00",
         "0.7297266394920595",
         "16.0",
         "Difficult"
        ],
        [
         "5083",
         "2025-08-01",
         "3716",
         "Express",
         "2025-08-01 18:17:00+00:00",
         "0.7141635139242155",
         "17.0",
         "Difficult"
        ],
        [
         "3624",
         "2025-08-01",
         "2243",
         "Mainline",
         "2025-08-01 18:20:00+00:00",
         "0.7058265602148202",
         "18.0",
         "Difficult"
        ],
        [
         "6184",
         "2025-08-01",
         "5021",
         "Express",
         "2025-08-01 20:50:00+00:00",
         "0.7034566302689504",
         "19.0",
         "Difficult"
        ],
        [
         "7629",
         "2025-08-01",
         "5699",
         "Express",
         "2025-08-01 18:18:00+00:00",
         "0.6986674919960306",
         "20.0",
         "Difficult"
        ],
        [
         "32",
         "2025-08-01",
         "219",
         "Mainline",
         "2025-08-01 09:30:00+00:00",
         "0.6935489168562358",
         "21.0",
         "Difficult"
        ],
        [
         "6586",
         "2025-08-01",
         "5251",
         "Express",
         "2025-08-01 19:35:00+00:00",
         "0.689463096990291",
         "22.0",
         "Difficult"
        ],
        [
         "3302",
         "2025-08-01",
         "2133",
         "Mainline",
         "2025-08-01 15:40:00+00:00",
         "0.6763973803619556",
         "23.0",
         "Difficult"
        ],
        [
         "1006",
         "2025-08-01",
         "881",
         "Mainline",
         "2025-08-01 12:50:00+00:00",
         "0.6749004229263619",
         "24.0",
         "Difficult"
        ],
        [
         "3379",
         "2025-08-01",
         "2148",
         "Mainline",
         "2025-08-01 19:40:00+00:00",
         "0.6737057693514545",
         "25.0",
         "Difficult"
        ],
        [
         "7242",
         "2025-08-01",
         "5505",
         "Express",
         "2025-08-01 15:40:00+00:00",
         "0.672952328824269",
         "26.0",
         "Difficult"
        ],
        [
         "1146",
         "2025-08-01",
         "970",
         "Mainline",
         "2025-08-01 15:50:00+00:00",
         "0.6558301670304899",
         "27.0",
         "Difficult"
        ],
        [
         "4113",
         "2025-08-01",
         "2487",
         "Mainline",
         "2025-08-01 21:23:00+00:00",
         "0.6548195134524251",
         "28.0",
         "Difficult"
        ],
        [
         "991",
         "2025-08-01",
         "845",
         "Mainline",
         "2025-08-01 21:20:00+00:00",
         "0.6532163941979614",
         "29.0",
         "Difficult"
        ],
        [
         "3289",
         "2025-08-01",
         "2113",
         "Mainline",
         "2025-08-01 20:30:00+00:00",
         "0.6427274009803761",
         "30.0",
         "Difficult"
        ],
        [
         "1039",
         "2025-08-01",
         "909",
         "Mainline",
         "2025-08-01 18:15:00+00:00",
         "0.6378987780125184",
         "31.0",
         "Difficult"
        ],
        [
         "3797",
         "2025-08-01",
         "2347",
         "Mainline",
         "2025-08-01 21:13:00+00:00",
         "0.637506718345033",
         "32.0",
         "Difficult"
        ],
        [
         "2499",
         "2025-08-01",
         "1756",
         "Mainline",
         "2025-08-01 21:14:00+00:00",
         "0.6367164699309592",
         "33.0",
         "Difficult"
        ],
        [
         "7322",
         "2025-08-01",
         "5536",
         "Express",
         "2025-08-01 13:30:00+00:00",
         "0.6359327829280189",
         "34.0",
         "Difficult"
        ],
        [
         "1235",
         "2025-08-01",
         "1030",
         "Mainline",
         "2025-08-01 19:35:00+00:00",
         "0.6341257371925988",
         "35.0",
         "Difficult"
        ],
        [
         "3409",
         "2025-08-01",
         "2155",
         "Mainline",
         "2025-08-01 19:40:00+00:00",
         "0.6325960810285471",
         "36.0",
         "Difficult"
        ],
        [
         "348",
         "2025-08-01",
         "416",
         "Mainline",
         "2025-08-01 21:35:00+00:00",
         "0.6247099226658476",
         "37.0",
         "Difficult"
        ],
        [
         "1376",
         "2025-08-01",
         "1124",
         "Mainline",
         "2025-08-01 16:07:00+00:00",
         "0.6240295236030544",
         "38.0",
         "Difficult"
        ],
        [
         "2148",
         "2025-08-01",
         "1580",
         "Mainline",
         "2025-08-01 19:35:00+00:00",
         "0.6230060222480687",
         "39.0",
         "Difficult"
        ],
        [
         "3149",
         "2025-08-01",
         "2059",
         "Mainline",
         "2025-08-01 19:55:00+00:00",
         "0.6168285463154586",
         "40.0",
         "Difficult"
        ],
        [
         "3455",
         "2025-08-01",
         "2179",
         "Mainline",
         "2025-08-01 18:20:00+00:00",
         "0.6149024854346348",
         "41.0",
         "Difficult"
        ],
        [
         "105",
         "2025-08-01",
         "276",
         "Mainline",
         "2025-08-01 21:31:00+00:00",
         "0.6127136281540371",
         "42.0",
         "Difficult"
        ],
        [
         "3923",
         "2025-08-01",
         "2394",
         "Mainline",
         "2025-08-01 18:35:00+00:00",
         "0.6123604577088566",
         "43.0",
         "Difficult"
        ],
        [
         "2033",
         "2025-08-01",
         "1495",
         "Mainline",
         "2025-08-01 21:13:00+00:00",
         "0.6095960287452298",
         "44.0",
         "Difficult"
        ],
        [
         "1131",
         "2025-08-01",
         "953",
         "Mainline",
         "2025-08-01 18:00:00+00:00",
         "0.6072798251808057",
         "45.0",
         "Difficult"
        ],
        [
         "2319",
         "2025-08-01",
         "1655",
         "Mainline",
         "2025-08-01 18:00:00+00:00",
         "0.5999849846595675",
         "46.0",
         "Difficult"
        ],
        [
         "363",
         "2025-08-01",
         "422",
         "Mainline",
         "2025-08-01 16:15:00+00:00",
         "0.5998996976034611",
         "47.0",
         "Difficult"
        ],
        [
         "2378",
         "2025-08-01",
         "1660",
         "Mainline",
         "2025-08-01 16:50:00+00:00",
         "0.5972292635588857",
         "48.0",
         "Difficult"
        ],
        [
         "4223",
         "2025-08-01",
         "2628",
         "Mainline",
         "2025-08-01 21:30:00+00:00",
         "0.5965511529844533",
         "49.0",
         "Difficult"
        ],
        [
         "2105",
         "2025-08-01",
         "1564",
         "Mainline",
         "2025-08-01 20:05:00+00:00",
         "0.5963288082516094",
         "50.0",
         "Difficult"
        ]
       ],
       "shape": {
        "columns": 7,
        "rows": 546
       }
      },
      "text/html": [
       "<div>\n",
       "<style scoped>\n",
       "    .dataframe tbody tr th:only-of-type {\n",
       "        vertical-align: middle;\n",
       "    }\n",
       "\n",
       "    .dataframe tbody tr th {\n",
       "        vertical-align: top;\n",
       "    }\n",
       "\n",
       "    .dataframe thead th {\n",
       "        text-align: right;\n",
       "    }\n",
       "</style>\n",
       "<table border=\"1\" class=\"dataframe\">\n",
       "  <thead>\n",
       "    <tr style=\"text-align: right;\">\n",
       "      <th></th>\n",
       "      <th>scheduled_departure_date_local</th>\n",
       "      <th>flight_number</th>\n",
       "      <th>carrier</th>\n",
       "      <th>scheduled_departure_datetime_local</th>\n",
       "      <th>difficulty_score</th>\n",
       "      <th>daily_rank</th>\n",
       "      <th>difficulty_classification</th>\n",
       "    </tr>\n",
       "  </thead>\n",
       "  <tbody>\n",
       "    <tr>\n",
       "      <th>3562</th>\n",
       "      <td>2025-08-01</td>\n",
       "      <td>2207</td>\n",
       "      <td>Mainline</td>\n",
       "      <td>2025-08-01 15:58:00+00:00</td>\n",
       "      <td>0.854877</td>\n",
       "      <td>1.0</td>\n",
       "      <td>Difficult</td>\n",
       "    </tr>\n",
       "    <tr>\n",
       "      <th>1825</th>\n",
       "      <td>2025-08-01</td>\n",
       "      <td>1363</td>\n",
       "      <td>Mainline</td>\n",
       "      <td>2025-08-01 12:54:00+00:00</td>\n",
       "      <td>0.844960</td>\n",
       "      <td>2.0</td>\n",
       "      <td>Difficult</td>\n",
       "    </tr>\n",
       "    <tr>\n",
       "      <th>4123</th>\n",
       "      <td>2025-08-01</td>\n",
       "      <td>2488</td>\n",
       "      <td>Mainline</td>\n",
       "      <td>2025-08-01 12:00:00+00:00</td>\n",
       "      <td>0.843383</td>\n",
       "      <td>3.0</td>\n",
       "      <td>Difficult</td>\n",
       "    </tr>\n",
       "    <tr>\n",
       "      <th>3470</th>\n",
       "      <td>2025-08-01</td>\n",
       "      <td>2182</td>\n",
       "      <td>Mainline</td>\n",
       "      <td>2025-08-01 11:20:00+00:00</td>\n",
       "      <td>0.812692</td>\n",
       "      <td>4.0</td>\n",
       "      <td>Difficult</td>\n",
       "    </tr>\n",
       "    <tr>\n",
       "      <th>6046</th>\n",
       "      <td>2025-08-01</td>\n",
       "      <td>4748</td>\n",
       "      <td>Express</td>\n",
       "      <td>2025-08-01 20:20:00+00:00</td>\n",
       "      <td>0.793294</td>\n",
       "      <td>5.0</td>\n",
       "      <td>Difficult</td>\n",
       "    </tr>\n",
       "    <tr>\n",
       "      <th>...</th>\n",
       "      <td>...</td>\n",
       "      <td>...</td>\n",
       "      <td>...</td>\n",
       "      <td>...</td>\n",
       "      <td>...</td>\n",
       "      <td>...</td>\n",
       "      <td>...</td>\n",
       "    </tr>\n",
       "    <tr>\n",
       "      <th>799</th>\n",
       "      <td>2025-08-01</td>\n",
       "      <td>721</td>\n",
       "      <td>Mainline</td>\n",
       "      <td>2025-08-01 09:15:00+00:00</td>\n",
       "      <td>0.217802</td>\n",
       "      <td>542.0</td>\n",
       "      <td>Easy</td>\n",
       "    </tr>\n",
       "    <tr>\n",
       "      <th>2978</th>\n",
       "      <td>2025-08-01</td>\n",
       "      <td>1975</td>\n",
       "      <td>Mainline</td>\n",
       "      <td>2025-08-01 07:30:00+00:00</td>\n",
       "      <td>0.213160</td>\n",
       "      <td>543.0</td>\n",
       "      <td>Easy</td>\n",
       "    </tr>\n",
       "    <tr>\n",
       "      <th>4386</th>\n",
       "      <td>2025-08-01</td>\n",
       "      <td>2666</td>\n",
       "      <td>Mainline</td>\n",
       "      <td>2025-08-01 05:00:00+00:00</td>\n",
       "      <td>0.211793</td>\n",
       "      <td>544.0</td>\n",
       "      <td>Easy</td>\n",
       "    </tr>\n",
       "    <tr>\n",
       "      <th>3078</th>\n",
       "      <td>2025-08-01</td>\n",
       "      <td>2008</td>\n",
       "      <td>Mainline</td>\n",
       "      <td>2025-08-01 11:02:00+00:00</td>\n",
       "      <td>0.207596</td>\n",
       "      <td>545.0</td>\n",
       "      <td>Easy</td>\n",
       "    </tr>\n",
       "    <tr>\n",
       "      <th>3268</th>\n",
       "      <td>2025-08-01</td>\n",
       "      <td>2104</td>\n",
       "      <td>Mainline</td>\n",
       "      <td>2025-08-01 06:00:00+00:00</td>\n",
       "      <td>0.205341</td>\n",
       "      <td>546.0</td>\n",
       "      <td>Easy</td>\n",
       "    </tr>\n",
       "  </tbody>\n",
       "</table>\n",
       "<p>546 rows × 7 columns</p>\n",
       "</div>"
      ],
      "text/plain": [
       "     scheduled_departure_date_local  flight_number   carrier  \\\n",
       "3562                     2025-08-01           2207  Mainline   \n",
       "1825                     2025-08-01           1363  Mainline   \n",
       "4123                     2025-08-01           2488  Mainline   \n",
       "3470                     2025-08-01           2182  Mainline   \n",
       "6046                     2025-08-01           4748   Express   \n",
       "...                             ...            ...       ...   \n",
       "799                      2025-08-01            721  Mainline   \n",
       "2978                     2025-08-01           1975  Mainline   \n",
       "4386                     2025-08-01           2666  Mainline   \n",
       "3078                     2025-08-01           2008  Mainline   \n",
       "3268                     2025-08-01           2104  Mainline   \n",
       "\n",
       "     scheduled_departure_datetime_local  difficulty_score  daily_rank  \\\n",
       "3562          2025-08-01 15:58:00+00:00          0.854877         1.0   \n",
       "1825          2025-08-01 12:54:00+00:00          0.844960         2.0   \n",
       "4123          2025-08-01 12:00:00+00:00          0.843383         3.0   \n",
       "3470          2025-08-01 11:20:00+00:00          0.812692         4.0   \n",
       "6046          2025-08-01 20:20:00+00:00          0.793294         5.0   \n",
       "...                                 ...               ...         ...   \n",
       "799           2025-08-01 09:15:00+00:00          0.217802       542.0   \n",
       "2978          2025-08-01 07:30:00+00:00          0.213160       543.0   \n",
       "4386          2025-08-01 05:00:00+00:00          0.211793       544.0   \n",
       "3078          2025-08-01 11:02:00+00:00          0.207596       545.0   \n",
       "3268          2025-08-01 06:00:00+00:00          0.205341       546.0   \n",
       "\n",
       "     difficulty_classification  \n",
       "3562                 Difficult  \n",
       "1825                 Difficult  \n",
       "4123                 Difficult  \n",
       "3470                 Difficult  \n",
       "6046                 Difficult  \n",
       "...                        ...  \n",
       "799                       Easy  \n",
       "2978                      Easy  \n",
       "4386                      Easy  \n",
       "3078                      Easy  \n",
       "3268                      Easy  \n",
       "\n",
       "[546 rows x 7 columns]"
      ]
     },
     "metadata": {},
     "output_type": "display_data"
    }
   ],
   "source": [
    "print(\"--- Starting Daily Flight Difficulty Score Calculation ---\")\n",
    "\n",
    "# --- Step 1: Prepare the full dataset for prediction ---\n",
    "features = [\n",
    "    'Is_International', 'minimum_turn_minutes', 'scheduled_ground_time_minutes',\n",
    "    'turnaround_buffer', 'arival_hour', 'Time_of_Day', 'fleet_type', 'carrier',\n",
    "    'total_seats', 'num_passengers', 'num_child', 'num_stroller_user',\n",
    "    'lap_child_count', 'num_special_req', 'total_num_bags', 'num_checked_bag',\n",
    "    'num_transfer_bag', 'num_hot_transfer_bags', 'Transfer_Bag_Ratio',\n",
    "    'Special_Req_Ratio', 'Pax_Per_Minute', 'Workload_Index', 'load_factor',\n",
    "    'bags_per_passenger'\n",
    "]\n",
    "existing_features = [f for f in features if f in final_df.columns]\n",
    "X_full = final_df[existing_features]\n",
    "\n",
    "categorical_features = [col for col in X_full.columns if X_full[col].dtype == 'object']\n",
    "X_full = pd.get_dummies(X_full, columns=categorical_features, drop_first=True)\n",
    "\n",
    "# Align columns with the training data\n",
    "train_columns = X_train.columns \n",
    "X_full = X_full.reindex(columns=train_columns, fill_value=0)\n",
    "\n",
    "\n",
    "# --- Step 2: Generate the Flight Difficulty Score (Corrected Logic) ---\n",
    "# Use your tuned binary model (best_model)\n",
    "# This returns probabilities for [class 0 (Easy), class 1 (At-Risk)]\n",
    "probabilities = best_model.predict_proba(X_full)\n",
    "\n",
    "# The difficulty score is simply the probability of the 'At-Risk' class (the second column)\n",
    "difficulty_scores = probabilities[:, 1]\n",
    "\n",
    "# Add the score to our report dataframe\n",
    "report_df = final_df[['scheduled_departure_date_local', 'flight_number', 'carrier', 'scheduled_departure_datetime_local']].copy()\n",
    "report_df['difficulty_score'] = difficulty_scores\n",
    "\n",
    "\n",
    "# --- Step 3: Rank Flights Within Each Day ---\n",
    "report_df['daily_rank'] = report_df.groupby('scheduled_departure_date_local')['difficulty_score'].rank(method='first', ascending=False)\n",
    "\n",
    "\n",
    "# --- Step 4: Classify Flights into Difficulty Tiers ---\n",
    "def classify_difficulty(df_group):\n",
    "    q_75 = df_group['difficulty_score'].quantile(0.75)\n",
    "    q_25 = df_group['difficulty_score'].quantile(0.25)\n",
    "    \n",
    "    conditions = [\n",
    "        df_group['difficulty_score'] >= q_75,\n",
    "        (df_group['difficulty_score'] >= q_25) & (df_group['difficulty_score'] < q_75),\n",
    "        df_group['difficulty_score'] < q_25\n",
    "    ]\n",
    "    choices = ['Difficult', 'Medium', 'Easy']\n",
    "    df_group['difficulty_classification'] = np.select(conditions, choices, default='Unknown')\n",
    "    return df_group\n",
    "\n",
    "report_df = report_df.groupby('scheduled_departure_date_local', group_keys=False).apply(classify_difficulty)\n",
    "\n",
    "\n",
    "# --- Step 5: Display a Sample of the Final Report ---\n",
    "print(\"\\n--- Sample Daily Flight Difficulty Report ---\")\n",
    "sample_date = report_df['scheduled_departure_date_local'].unique()[0]\n",
    "daily_report_sample = report_df[report_df['scheduled_departure_date_local'] == sample_date].sort_values('daily_rank')\n",
    "\n",
    "display(daily_report_sample)"
   ]
  },
  {
   "cell_type": "markdown",
   "id": "1c0bd0fd",
   "metadata": {},
   "source": [
    "#  Deliverable 3 - Post-Analysis & Operational Insights"
   ]
  },
  {
   "cell_type": "code",
   "execution_count": null,
   "id": "c57dc6ab",
   "metadata": {},
   "outputs": [
    {
     "name": "stdout",
     "output_type": "stream",
     "text": [
      "--- Deliverable 3: Post-Analysis & Operational Insights ---\n",
      "\n",
      "--- Top 10 Destinations Appearing Most Frequently in 'Difficult' Classification ---\n",
      "scheduled_arrival_station_code\n",
      "EWR    67\n",
      "DEN    65\n",
      "SFO    62\n",
      "IAH    59\n",
      "LGA    53\n",
      "LAX    50\n",
      "BOS    43\n",
      "YYZ    35\n",
      "CLE    34\n",
      "LHR    31\n",
      "Name: count, dtype: int64\n",
      "\n",
      "--- Average Numeric Feature Values for Top Difficult Destination (EWR) vs. Overall Average ---\n",
      "                               Avg_for_EWR  Overall_Avg\n",
      "Is_International                  0.000000     0.094822\n",
      "minimum_turn_minutes             62.089041    48.237441\n",
      "scheduled_ground_time_minutes   226.130137   193.794295\n",
      "turnaround_buffer               164.041096   145.556855\n",
      "arival_hour                      13.780822    15.539381\n",
      "total_seats                     182.719178   123.431967\n",
      "num_passengers                  142.171233    85.856868\n",
      "num_child                         6.472603     5.209302\n",
      "num_stroller_user                 1.424658     1.091224\n",
      "lap_child_count                   0.883562     0.694719\n",
      "num_special_req                   3.006849     2.260054\n",
      "total_num_bags                  103.726027    78.635359\n",
      "num_checked_bag                  71.616438    34.762302\n",
      "num_transfer_bag                 24.863014    38.049852\n",
      "num_hot_transfer_bags             7.246575     5.823204\n",
      "Transfer_Bag_Ratio                0.312787     0.599960\n",
      "Special_Req_Ratio                 0.021840     0.027533\n",
      "Pax_Per_Minute                    1.398758     1.205844\n",
      "Workload_Index                    2.438494     2.266654\n",
      "load_factor                       0.778523     0.708236\n",
      "bags_per_passenger                0.734923     0.937263\n",
      "\n",
      "--- Specific Recommendations for Operational Efficiency ---\n",
      "1. Proactive Staffing: For flights with a high 'difficulty_score' (e.g., >0.75), proactively assign additional ground staff, especially for baggage handling, as 'num_transfer_bag' is a key driver.\n",
      "2. Gate Management: Review gate assignments for top difficult destinations. These flights may benefit from gates with shorter taxi times or closer proximity to baggage transfer points.\n",
      "3. Schedule Review: For routes that consistently rank as 'Difficult', analyze the scheduled turnaround buffer. A buffer of less than 30 minutes is a significant risk factor and may need to be adjusted.\n"
     ]
    }
   ],
   "source": [
    "print(\"--- Deliverable 3: Post-Analysis & Operational Insights ---\")\n",
    "\n",
    "# --- 1. Summarize Difficult Destinations ---\n",
    "# Merge report_df with final_df to get 'scheduled_arrival_station_code'\n",
    "report_with_dest = pd.merge(\n",
    "\treport_df,\n",
    "\tfinal_df[['flight_number', 'scheduled_departure_date_local', 'scheduled_arrival_station_code']],\n",
    "\ton=['flight_number', 'scheduled_departure_date_local'],\n",
    "\thow='left'\n",
    ")\n",
    "difficult_flights_df = report_with_dest[report_with_dest['difficulty_classification'] == 'Difficult']\n",
    "difficult_destinations = difficult_flights_df['scheduled_arrival_station_code'].value_counts().head(10)\n",
    "print(\"\\n--- Top 10 Destinations Appearing Most Frequently in 'Difficult' Classification ---\")\n",
    "print(difficult_destinations)\n",
    "\n",
    "# --- 2. Common Drivers for a Difficult Destination ---\n",
    "# Analyze the characteristics of flights to the top difficult destination\n",
    "top_difficult_dest = difficult_destinations.index[0]\n",
    "# Select only numeric features for aggregation\n",
    "numeric_features = [col for col in features if pd.api.types.is_numeric_dtype(final_df[col])]\n",
    "difficult_dest_flights_features = final_df[final_df['scheduled_arrival_station_code'] == top_difficult_dest][numeric_features]\n",
    "print(f\"\\n--- Average Numeric Feature Values for Top Difficult Destination ({top_difficult_dest}) vs. Overall Average ---\")\n",
    "print(pd.concat([\n",
    "\tdifficult_dest_flights_features.mean().rename('Avg_for_' + top_difficult_dest),\n",
    "\tfinal_df[numeric_features].mean().rename('Overall_Avg')\n",
    "], axis=1))\n",
    "\n",
    "# --- 3. Specific Recommendations ---\n",
    "print(\"\\n--- Specific Recommendations for Operational Efficiency ---\")\n",
    "print(\"1. Proactive Staffing: For flights with a high 'difficulty_score' (e.g., >0.75), proactively assign additional ground staff, especially for baggage handling, as 'num_transfer_bag' is a key driver.\")\n",
    "print(\"2. Gate Management: Review gate assignments for top difficult destinations. These flights may benefit from gates with shorter taxi times or closer proximity to baggage transfer points.\")\n",
    "print(\"3. Schedule Review: For routes that consistently rank as 'Difficult', analyze the scheduled turnaround buffer. A buffer of less than 30 minutes is a significant risk factor and may need to be adjusted.\")"
   ]
  },
  {
   "cell_type": "markdown",
   "id": "b7c044e6",
   "metadata": {},
   "source": [
    "#  Final CSV Export"
   ]
  },
  {
   "cell_type": "code",
   "execution_count": null,
   "id": "5d6449f6",
   "metadata": {},
   "outputs": [
    {
     "name": "stdout",
     "output_type": "stream",
     "text": [
      "\n",
      "Final submission file 'test_bt22104015.csv' has been created successfully.\n"
     ]
    }
   ],
   "source": [
    "# --- Create Final CSV for Submission ---\n",
    "# Add the features used for calculation to the report_df\n",
    "final_submission_df = pd.concat([report_df, final_df[features]], axis=1)\n",
    "final_submission_df_sorted = final_submission_df.sort_values(\n",
    "    by=['scheduled_departure_date_local', 'daily_rank'], \n",
    "    ascending=[True, True]\n",
    ")\n",
    "\n",
    "# Define your name for the filename\n",
    "your_name = \"bt22104015\"\n",
    "file_name = f\"test_{your_name}.csv\"\n",
    "\n",
    "# Save to CSV\n",
    "final_submission_df.to_csv(file_name, index=False)\n",
    "\n",
    "print(f\"\\nFinal submission file '{file_name}' has been created successfully.\")"
   ]
  }
 ],
 "metadata": {
  "kernelspec": {
   "display_name": ".venv",
   "language": "python",
   "name": "python3"
  },
  "language_info": {
   "codemirror_mode": {
    "name": "ipython",
    "version": 3
   },
   "file_extension": ".py",
   "mimetype": "text/x-python",
   "name": "python",
   "nbconvert_exporter": "python",
   "pygments_lexer": "ipython3",
   "version": "3.13.7"
  }
 },
 "nbformat": 4,
 "nbformat_minor": 5
}
